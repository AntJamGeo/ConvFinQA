{
 "cells": [
  {
   "cell_type": "markdown",
   "id": "cec56df2-2486-42b5-a86f-3b400ccd4b0b",
   "metadata": {},
   "source": [
    "# ConvFinQA LLM-Based Prototype"
   ]
  },
  {
   "cell_type": "markdown",
   "id": "b562a43d-6d8d-4ffe-959d-c0b905125953",
   "metadata": {},
   "source": [
    "Each sample in the ConvFinQA dataset contains some textual and tabular financial information (context), some questions about the provided context, and expected answers to those questions. The goal is to use Large Language Models to answer the questions based on the provided context. The questions can be split into two categories:\n",
    "\n",
    "* **Retrieval**: The user asks for data that can be lifted directly from the context,\n",
    "* **Operation**: The user asks for data that needs to be computed, combining data from the context in some way to produce a result.\n",
    "\n",
    "A working system may have a user-friendly ChatGPT-style UI where a user can upload some context, and ask simple retrieval- or operation-style questions to get a final answer. This report describes an LLM-based prototype that would work behind-the-scenes in such a system, containing a description of the prototype, some performance metrics, and potential improvements."
   ]
  },
  {
   "cell_type": "markdown",
   "id": "37377805-57c6-421e-b31c-7b0bab9721b4",
   "metadata": {
    "jp-MarkdownHeadingCollapsed": true
   },
   "source": [
    "## Prototype Description"
   ]
  },
  {
   "cell_type": "markdown",
   "id": "38d812e1-a60d-4392-92a2-3c354a36a262",
   "metadata": {},
   "source": [
    "The prototype is powered by `ConversationHandler` instances. This is a class that takes care of a single conversation with a user, by first loading in some initial messages to be sent to an LLM, taking in context from the user, and then passing user queries to the LLM (with some modifications) to produce answers to those queries.\n",
    "\n",
    "The LLM used for testing in this prototype is [Mistral-Nemo-Instruct-2407](https://huggingface.co/mistralai/Mistral-Nemo-Instruct-2407), but this can easily be swapped for other text generation models. Mistral-Nemo-Instruct-2407 was chosen due to its **large context window** (128k tokens) and its training on **text generation** tasks, allowing it to process huge user context inputs and giving it the ability to generate contextually relevant responses across long conversations.\n",
    "\n",
    "We can break down the steps that occur in an interaction:\n",
    "\n",
    "1) First, a `ConversationHandler` instance would be created. This would require an LLM Inference Client for sending messages to and receiving messages from the LLM, and some user-provided context. Initially, a **few-shot prompt** ([Appendix A](#appendix-a)) is stored by the instance so that the LLM knows how to answer questions from the user effectively. After that, the user's context is appended to the prompt, as well as a reminder to the LLM to respond in a **specific format** ([Appendix B](#appendix-b)).\n",
    "2) The user then starts asking questions about the context. Before sending the question to the LLM, the prompt is ammended with a reminder to the LLM to answer in the correct format, as well as the calculated answer to the previous question, if possible.\n",
    "3) The ammended prompt is sent to the LLM and a response is received.\n",
    "4) The `ConversationHandler` then attempts to parse the response:\n",
    "    1) If the response is in **retrieval** format, it can be passed back to the user\n",
    "    2) If the response is in **operation** format, the operation must be split into the **operation** and its two **arguments**. These will then be processed to produce a final answer that will be passed back to the user.\n",
    "    3) If the response is not in a valid format, some consideration would have to be made as to how to deal with this in production. For the prototype, an error message detailing what went wrong is appended to an error log to understand what kinds of problems can occur that need to be fixed.\n",
    "5) Repeat steps 2-4."
   ]
  },
  {
   "cell_type": "markdown",
   "id": "41217f53-1479-4155-a320-f4241ef63891",
   "metadata": {
    "jp-MarkdownHeadingCollapsed": true
   },
   "source": [
    "## Evaluation"
   ]
  },
  {
   "cell_type": "markdown",
   "id": "7935b142-844a-4535-90a1-e4a14f639945",
   "metadata": {},
   "source": [
    "The prototype was tested on the data in `train.json` from the [ConvFinQA Repository](https://github.com/czyssrs/ConvFinQA). Almost all questions can be answered in either a **retrieval** or a **single-operation** format (a very small minority of questions actually require multiple operations to occur in one go - these are left out of testing and are discussed in more detail in [Potential Improvements](#potential-improvements)). The prototype was tested on 3,014 entries, with each entry being composed of between 1-9 questions, giving a total of 11,018 individual questions.\n",
    "\n",
    "To see the performance metrics, of the prototype, we first need to do the necessary imports and load in the data."
   ]
  },
  {
   "cell_type": "markdown",
   "id": "387c8f5d-f443-4fe5-bc77-a221e38137d9",
   "metadata": {
    "jp-MarkdownHeadingCollapsed": true
   },
   "source": [
    "### Imports"
   ]
  },
  {
   "cell_type": "code",
   "execution_count": 3,
   "id": "40efb7d3-c85e-4ff0-b302-1303f7ea5b9e",
   "metadata": {},
   "outputs": [],
   "source": [
    "import sys\n",
    "import os\n",
    "\n",
    "src_path = \"../src\"\n",
    "sys.path.insert(0, src_path)"
   ]
  },
  {
   "cell_type": "code",
   "execution_count": 5,
   "id": "a0e8f983-fcf6-47c7-a94e-2c70baba1591",
   "metadata": {},
   "outputs": [],
   "source": [
    "import seaborn as sns\n",
    "import pandas as pd\n",
    "import matplotlib.pyplot as plt\n",
    "from dataclasses import asdict\n",
    "\n",
    "from data import load_data\n",
    "from analyser import Analyser\n",
    "from plot import plot_by_question_number, plot_by_question_type"
   ]
  },
  {
   "cell_type": "code",
   "execution_count": 7,
   "id": "223c6186-e7f3-45b2-9efb-3405c74aca3b",
   "metadata": {},
   "outputs": [],
   "source": [
    "type1_entries = load_data(f\"../data/processed/train1.json\")\n",
    "type2_entries = load_data(f\"../data/processed/train2.json\")\n",
    "entries = type1_entries | type2_entries\n",
    "a = Analyser(entries, \"../data/runs/run2.pickle\")"
   ]
  },
  {
   "cell_type": "markdown",
   "id": "ad9474fb-906a-48f3-87bc-e5dd4f5cab11",
   "metadata": {},
   "source": [
    "We use an `Analyser` instance to compare the expected results in `entries` to the generated results in the pickle file. This will produce `Accuracy` objects with three attributes:\n",
    "\n",
    "* `score`: Total number of correct answers,\n",
    "* `total`: Total number of questions,\n",
    "* `accuracy`: `score` / `total`."
   ]
  },
  {
   "cell_type": "markdown",
   "id": "48accb3f-98e3-47e4-9f4c-c93c63d3d4be",
   "metadata": {
    "jp-MarkdownHeadingCollapsed": true
   },
   "source": [
    "### Computational vs Operation vs Retrieval Accuracy"
   ]
  },
  {
   "cell_type": "markdown",
   "id": "cd9aab26-9bd2-4429-b6ba-23e90cd57e51",
   "metadata": {},
   "source": [
    "We can get an initial idea of the prototype's performance by simply measuring the accuracy of the calculated answers over all questions. This is calculated by comparing just the final numerical answers between those in the dataset and those produced by the prototype. We call this **computational accuracy**. Another way we can measure performance is with **operation accuracy**, which removes the dependency on earlier answers being correct by instead comparing the generated operation. For example:"
   ]
  },
  {
   "cell_type": "code",
   "execution_count": 9,
   "id": "a9fcf8e6-96ee-4bfb-944c-591013555af2",
   "metadata": {},
   "outputs": [
    {
     "name": "stdout",
     "output_type": "stream",
     "text": [
      "\u001b[1mEntry 0\u001b[0m\n",
      "----------------------------------------\n",
      "\u001b[1;31mQuestions\u001b[0m\n",
      "what is the net cash from operating activities in 2009?\n",
      "what about in 2008?\n",
      "what is the difference?\n",
      "what percentage change does this represent?\n",
      "----------------------------------------\n",
      "\u001b[1;34mComputations\u001b[0m\n",
      "Expected : [206588.0, 181001.0, 25587.0, 0.14136]\n",
      "Generated: [206588.0, 181001.0, 25587.0, 0.1413638598681775]\n",
      "\u001b[34mComputational Accuracy:\u001b[0m Accuracy(score=4, total=4, accuracy=1.0)\n",
      "----------------------------------------\n",
      "\u001b[1;32mRetrievals and Operations\u001b[0m\n",
      "Expected : ['206588', '181001', 'subtract(206588.0, 181001.0)', 'divide(ANS2, 181001.0)']\n",
      "Generated: ['206588', '181001', 'subtract(ANS0, ANS1)', 'divide(ANS2, ANS1)']\n",
      "\u001b[32mRetrieval Accuracy:\u001b[0m Accuracy(score=2, total=2, accuracy=1.0)\n",
      "\u001b[32mOperation Accuracy:\u001b[0m Accuracy(score=2, total=2, accuracy=1.0)\n",
      "----------------------------------------\n",
      "\n",
      "\u001b[1mEntry 4\u001b[0m\n",
      "----------------------------------------\n",
      "\u001b[1;31mQuestions\u001b[0m\n",
      "what was the fluctuation of the performance price of the ups from 2004 to 2006?\n",
      "and how much does this fluctuation represent in relation to that price in 2004?\n",
      "and from this year to 2009, what was the fluctuation for that stock?\n",
      "what is this fluctuation as a percentage of the 2004 price?\n",
      "and for the s&p 500 index price, what was the fluctuation in those five years?\n",
      "and what percentage does this fluctuation represent in relation to the 2004 price of this stock?\n",
      "what is, then, the difference between the ups percentage and this s&p 500 index one, for this five year period?\n",
      "----------------------------------------\n",
      "\u001b[1;34mComputations\u001b[0m\n",
      "Expected : [-8.94, -0.0894, -24.05, -0.2405, 2.11, 0.0211, -0.2616]\n",
      "Generated: [-8.939999999999998, -0.08939999999999998, -13.539999999999992, -0.1353999999999999, 2.1099999999999994, 0.021099999999999994, -0.15649999999999992]\n",
      "\u001b[34mComputational Accuracy:\u001b[0m Accuracy(score=4, total=7, accuracy=0.5714285714285714)\n",
      "----------------------------------------\n",
      "\u001b[1;32mRetrievals and Operations\u001b[0m\n",
      "Expected : ['subtract(91.06, 100)', 'divide(ANS0, 100)', 'subtract(75.95, 100)', 'divide(ANS2, 100)', 'subtract(102.11, 100)', 'divide(ANS4, 100)', 'subtract(ANS3, ANS5)']\n",
      "Generated: ['subtract(91.06, 100)', 'divide(ANS0, 100)', 'subtract(75.95, 89.49)', 'divide(ANS2, 100)', 'subtract(102.11, 100)', 'divide(ANS4, 100)', 'subtract(ANS3, ANS5)']\n",
      "\u001b[32mRetrieval Accuracy:\u001b[0m Accuracy(score=0, total=0, accuracy=0)\n",
      "\u001b[32mOperation Accuracy:\u001b[0m Accuracy(score=6, total=7, accuracy=0.8571428571428571)\n",
      "----------------------------------------\n",
      "\n",
      "\u001b[1mEntry 6\u001b[0m\n",
      "----------------------------------------\n",
      "\u001b[1;31mQuestions\u001b[0m\n",
      "what was the net change in value of litigation reserves during 2012?\n",
      "what was the value of litigation reserves at the start of 2012?\n",
      "what was the percent change?\n",
      "----------------------------------------\n",
      "\u001b[1;34mComputations\u001b[0m\n",
      "Expected : [0.5, 3.2, 0.15625]\n",
      "Generated: [-500.0, 2700.0, -0.18518518518518517]\n",
      "\u001b[34mComputational Accuracy:\u001b[0m Accuracy(score=0, total=3, accuracy=0.0)\n",
      "----------------------------------------\n",
      "\u001b[1;32mRetrievals and Operations\u001b[0m\n",
      "Expected : ['subtract(3.7, 3.2)', '3.2', 'divide(ANS0, 3.2)']\n",
      "Generated: ['subtract(3200, 3700)', 'add(ANS0, 3200)', 'divide(ANS0, ANS1)']\n",
      "\u001b[32mRetrieval Accuracy:\u001b[0m Accuracy(score=0, total=1, accuracy=0.0)\n",
      "\u001b[32mOperation Accuracy:\u001b[0m Accuracy(score=1, total=2, accuracy=0.5)\n",
      "----------------------------------------\n",
      "\n"
     ]
    }
   ],
   "source": [
    "a.compare([0, 4, 6])"
   ]
  },
  {
   "cell_type": "markdown",
   "id": "223f8373-cf74-4c12-81ad-920dfe8cfdb5",
   "metadata": {},
   "source": [
    "Above shows a comparison for some entries in a dataset between their expected and their generated computed answers and retrievals/operations for each question. For example, for entry 0, the expected computed answer to the first question was 206588.0, and the generated answer was also 206588.0, making this a correct result. We can see all numerical values match for entry 0, giving it **100% computational accuracy**. We also notice that the operations match too (after substituting in the correct values for ANS0, ANS1, and ANS2), giving it **100% operation accuracy**.\n",
    "\n",
    "Entry 4 on the other hand has three mismatches between its expected and generated computed answers, giving it an **computational accuracy of 4/7**. However, two of those mistakes came from using an incorrect value from an earlier mistake in the conversation, but the actual operations given by the LLM were correct; the **operation accuracy here is 6/7**.\n",
    "\n",
    "Operation accuracy is only calculated over **operation** questions, to target the LLM's ability to correctly generate an operation. Therefore, for entry 6, we say it has a **operation accuracy of 1/2**, as two of the expected results are operations (`subtract(3.7, 3.2)` and `divide(ANS0, 3.2)`), and only one of those is correct. We can also measure **retrieval** accuracy, which is the LLM's ability to correctly retrieve a value from the text. Entry 6 has a **retrieval accuracy of 0/1**, as it expects 3.2 to be retrieved for the second question, but the LLM fails to retrieve the correct value, instead generating an operation `add(ANS0, 3200)`."
   ]
  },
  {
   "cell_type": "markdown",
   "id": "6174bc54-45f0-4f12-ac1f-e071d85b3d3d",
   "metadata": {},
   "source": [
    "We can now take a look at these measures over the full dataset:"
   ]
  },
  {
   "cell_type": "code",
   "execution_count": 15,
   "id": "e333f514-0f79-4f8d-84c6-39e52321a1f2",
   "metadata": {},
   "outputs": [
    {
     "data": {
      "text/plain": [
       "Accuracy(score=6535, total=11018, accuracy=0.5931203485206027)"
      ]
     },
     "execution_count": 15,
     "metadata": {},
     "output_type": "execute_result"
    }
   ],
   "source": [
    "a.computational_accuracy()"
   ]
  },
  {
   "cell_type": "code",
   "execution_count": 17,
   "id": "a5693d81-5344-4c6f-8fbc-59b5d854bb31",
   "metadata": {},
   "outputs": [
    {
     "data": {
      "text/plain": [
       "{'retrieval': Accuracy(score=2735, total=3893, accuracy=0.7025430259440021),\n",
       " 'operation': Accuracy(score=3800, total=7125, accuracy=0.5333333333333333)}"
      ]
     },
     "execution_count": 17,
     "metadata": {},
     "output_type": "execute_result"
    }
   ],
   "source": [
    "a.computational_accuracy_by_question_type()"
   ]
  },
  {
   "cell_type": "code",
   "execution_count": 19,
   "id": "56896966-50ef-460e-a014-071b0f5cc6cf",
   "metadata": {},
   "outputs": [
    {
     "data": {
      "text/plain": [
       "Accuracy(score=4797, total=7125, accuracy=0.6732631578947369)"
      ]
     },
     "execution_count": 19,
     "metadata": {},
     "output_type": "execute_result"
    }
   ],
   "source": [
    "a.operation_accuracy()"
   ]
  },
  {
   "cell_type": "markdown",
   "id": "3481e65e-246f-4869-906e-520613c9ca1e",
   "metadata": {},
   "source": [
    "First we can see the **computational accuracy** over the full dataset sitting at **almost 60%**. We can break this down into **retrieval** and **operation** questions, and see **retrieval** questions seem to score fairly well, with the prototype hitting **70% retrieval accuracy**. Computational accuracy for **operation** questions seems fairly low at around **53%**, but when we remove the dependency on previous questions being correct, we see that the LLM is actually able to generate the correct operation (the **operation accuracy**) **67%** of the time, meaning 14% of the operation questions are incorrectly answered simply because previously wrong values were passed in.\n",
    "\n",
    "These figures seem to suggest that the retrieval and the operation generation abilities of the LLM are fairly good, both coming close to 70%, but with still a fair amount of mistakes being made, these errors can easily get carried forward further down in the conversation."
   ]
  },
  {
   "cell_type": "markdown",
   "id": "d71c6235-36ae-466d-a69e-082b30aedea5",
   "metadata": {
    "jp-MarkdownHeadingCollapsed": true
   },
   "source": [
    "### Performance by Question Number"
   ]
  },
  {
   "cell_type": "markdown",
   "id": "dd5f05e0-8f8d-411a-9452-7b3c205c02e6",
   "metadata": {},
   "source": [
    "With operation questions being hit by errors carried forward, it may be interesting to see how the performance of the prototype changes depending on how early a question appears in the conversation. We can see this in the bar plot below:"
   ]
  },
  {
   "cell_type": "code",
   "execution_count": 22,
   "id": "395eb340-8c11-4d17-b386-a1beb2e17deb",
   "metadata": {},
   "outputs": [
    {
     "data": {
      "image/png": "[encoded data removed]",
      "text/plain": [
       "<Figure size 1600x800 with 2 Axes>"
      ]
     },
     "metadata": {},
     "output_type": "display_data"
    }
   ],
   "source": [
    "ca_qn = a.computational_accuracy_by_question_number()\n",
    "oa_qn = a.operation_accuracy_by_question_number()\n",
    "plot_by_question_number(ca_qn, oa_qn)"
   ]
  },
  {
   "cell_type": "markdown",
   "id": "6c3d66b1-fae7-4971-8891-2566e63be105",
   "metadata": {},
   "source": [
    "We see that for **computational accuracy**, the accuracy starts off around 65% and then drops further as we get to later questions, getting to just over 40% by the time we reach the sixth question (index 5). This is what we would expect, as the later on a question is, the more likely it is to have dependencies on earlier questions that may be incorrect, meaning those errors would get carried forward. Surprisingly, however, the computational accuracy then starts to increase quite sharply from the seventh question onwards (although we should take into account that there are fewer samples here, with ninth questions scoring 100% in a sample size of 2).\n",
    "\n",
    "Looking at **operation accuracy**, we perhaps surprisingly see the accuracy gradually increasing the further along we go. The lower accuracy for early operations may be because the LLM has to both come up with an operation while also doing retrieval from a potentially long and complicated context, while by the time we get to the third question, a large number of operations will be on answers to the first two questions, which are potentially easier for the LLM to locate.\n",
    "\n",
    "We can take a look at the two entries that were nine questions long:"
   ]
  },
  {
   "cell_type": "code",
   "execution_count": 35,
   "id": "fe64d786-e9c1-481b-93f6-c99acb1fa9d3",
   "metadata": {},
   "outputs": [
    {
     "name": "stdout",
     "output_type": "stream",
     "text": [
      "\u001b[1mEntry 605\u001b[0m\n",
      "----------------------------------------\n",
      "\u001b[1;31mQuestions\u001b[0m\n",
      "how many shares were repurchased during 2017?\n",
      "what about in 2018?\n",
      "what is the total number repurchased for 2017 to 2018?\n",
      "what about in 2019?\n",
      "what is the total for three years?\n",
      "what is the total amount spent in 2018 and 2019 for stock repurchases?\n",
      "what about if the amount spent in 2017 is added?\n",
      "what is average price per share repurchased during these three years?\n",
      "what about the average share price for repurchases during 2019?\n",
      "----------------------------------------\n",
      "\u001b[1;34mComputations\u001b[0m\n",
      "Expected : [1.8, 3.4, 5.2, 2.1, 7.3, 283.7, 376.7, 51.60274, 42.19048]\n",
      "Generated: [1.8, 3.4, 5.2, 2.1, 7.300000000000001, 283.7, 376.7, 51.60273972602739, 42.19047619047618]\n",
      "\u001b[34mComputational Accuracy:\u001b[0m Accuracy(score=9, total=9, accuracy=1.0)\n",
      "----------------------------------------\n",
      "\u001b[1;32mRetrievals and Operations\u001b[0m\n",
      "Expected : ['1.8', '3.4', 'add(3.4, 1.8)', '2.1', 'add(ANS2, 2.1)', 'add(88.6, 195.1)', 'add(ANS5, 93.0)', 'divide(ANS6, ANS4)', 'divide(88.6, 2.1)']\n",
      "Generated: ['1.8', '3.4', 'add(ANS0, ANS1)', '2.1', 'add(ANS2, ANS3)', 'add(195.1, 88.6)', 'add(ANS5, 93.0)', 'divide(ANS6, ANS4)', 'divide(88.6, 2.1)']\n",
      "\u001b[32mRetrieval Accuracy:\u001b[0m Accuracy(score=3, total=3, accuracy=1.0)\n",
      "\u001b[32mOperation Accuracy:\u001b[0m Accuracy(score=6, total=6, accuracy=1.0)\n",
      "----------------------------------------\n",
      "\n",
      "\u001b[1mEntry 1500\u001b[0m\n",
      "----------------------------------------\n",
      "\u001b[1;31mQuestions\u001b[0m\n",
      "what was the total in acquired customer-related and network location intangibles, from american tower corporation and subsidiaries notes to consolidated financial statements, in millions?\n",
      "and what is the expected period in which those location intangibles will be amortized, in years?\n",
      "what is, then, the expected annual amortization expenses, in millions?\n",
      "from that same company, what was the value of current assets, from preliminary allocation of the aggregate purchase consideration paid and the amounts of assets acquired and liabilities assumed based upon their estimated fair value at the date of acquisition?\n",
      "and what is the total sum of those current assets and the non-current ones?\n",
      "including property and equipment, what then becomes that sum?\n",
      "and including the intangible assets, what becomes this total?\n",
      "what was the fair value of net assets acquired?\n",
      "how much, then, does that total represent in relation to this fair value?\n",
      "----------------------------------------\n",
      "\u001b[1;34mComputations\u001b[0m\n",
      "Expected : [147.7, 20.0, 7.385, 11095.0, 37806.0, 21079.0, 58885.0, 57536.0, 1.02345]\n",
      "Generated: [147.7, 20.0, 7.385, 8763.0, 11095.0, 37806.0, 58885.0, 57536.0, 1.0234461902113459]\n",
      "\u001b[34mComputational Accuracy:\u001b[0m Accuracy(score=6, total=9, accuracy=0.6666666666666666)\n",
      "----------------------------------------\n",
      "\u001b[1;32mRetrievals and Operations\u001b[0m\n",
      "Expected : ['add(75.0, 72.7)', '20', 'divide(ANS0, 20.0)', 'add(8763.0, 2332.0)', 'add(26711.0, ANS3)', '21079', 'add(21079.0, ANS4)', '57536', 'divide(ANS6, 57536.0)']\n",
      "Generated: ['add(75.0, 72.7)', '20', 'divide(ANS0, ANS1)', '8763', 'add(ANS3, 2332)', 'add(ANS4, 26711)', 'add(ANS5, 21079)', '57536', 'divide(ANS6, ANS7)']\n",
      "\u001b[32mRetrieval Accuracy:\u001b[0m Accuracy(score=2, total=3, accuracy=0.6666666666666666)\n",
      "\u001b[32mOperation Accuracy:\u001b[0m Accuracy(score=4, total=6, accuracy=0.6666666666666666)\n",
      "----------------------------------------\n",
      "\n"
     ]
    }
   ],
   "source": [
    "a.compare([605, 1500])"
   ]
  },
  {
   "cell_type": "markdown",
   "id": "2839638c-54ad-4696-a822-55279ae9dbfd",
   "metadata": {},
   "source": [
    "For entry 605, we see that the ninth question required retrieving the correct values from the text while also knowing the operation required to handle them. Given the size and complexity of the context as shown below, this shows the power and potential of this prototype to answer questions on large, complex financial documents. For the last question of entry 1500, we again see the LLM's ability to understand which operation to use and this time pay attention to previous answers."
   ]
  },
  {
   "cell_type": "markdown",
   "id": "6f2d018a-fc97-4eb0-b9e8-41a23e3ac8fc",
   "metadata": {
    "jp-MarkdownHeadingCollapsed": true
   },
   "source": [
    "#### Entry 605 Context"
   ]
  },
  {
   "cell_type": "code",
   "execution_count": 39,
   "id": "8f1fbb2b-c86d-44b2-b17a-b4845566042f",
   "metadata": {},
   "outputs": [
    {
     "data": {
      "text/plain": [
       "\"westrock company notes to consolidated financial statements 2014 ( continued ) note 20 . stockholders 2019 equity capitalization our capital stock consists solely of common stock . holders of our common stock are entitled to one vote per share . our amended and restated certificate of incorporation also authorizes preferred stock , of which no shares have been issued . the terms and provisions of such shares will be determined by our board of directors upon any issuance of such shares in accordance with our certificate of incorporation . stock repurchase plan in july 2015 , our board of directors authorized a repurchase program of up to 40.0 million shares of our common stock , representing approximately 15% ( 15 % ) of our outstanding common stock as of july 1 , 2015 . the shares of our common stock may be repurchased over an indefinite period of time at the discretion of management . in fiscal 2019 , we repurchased approximately 2.1 million shares of our common stock for an aggregate cost of $ 88.6 million . in fiscal 2018 , we repurchased approximately 3.4 million shares of our common stock for an aggregate cost of $ 195.1 million . in fiscal 2017 , we repurchased approximately 1.8 million shares of our common stock for an aggregate cost of $ 93.0 million . as of september 30 , 2019 , we had remaining authorization under the repurchase program authorized in july 2015 to purchase approximately 19.1 million shares of our common stock . note 21 . share-based compensation share-based compensation plans at our annual meeting of stockholders held on february 2 , 2016 , our stockholders approved the westrock company 2016 incentive stock plan . the 2016 incentive stock plan was amended and restated on february 2 , 2018 ( the 201camended and restated 2016 incentive stock plan 201d ) . the amended and restated 2016 incentive stock plan allows for the granting of options , restricted stock , sars and restricted stock units to certain key employees and directors . the table below shows the approximate number of shares : available for issuance , available for future grant , to be issued if restricted awards granted with a performance condition recorded at target achieve the maximum award , and if new grants pursuant to the plan are expected to be issued , each as adjusted as necessary for corporate actions ( in millions ) . shares available issuance shares available for future shares to be issued if performance is achieved at maximum expect to awards amended and restated 2016 incentive stock plan ( 1 ) 11.7 5.1 2.3 yes 2004 incentive stock plan ( 1 ) ( 2 ) 15.8 3.1 0.0 no 2005 performance incentive plan ( 1 ) ( 2 ) 12.8 9.0 0.0 no rocktenn ( sscc ) equity inventive plan ( 1 ) ( 3 ) 7.9 5.9 0.0 no ( 1 ) as part of the separation , equity-based incentive awards were generally adjusted to maintain the intrinsic value of awards immediately prior to the separation . the number of unvested restricted stock awards and unexercised stock options and sars at the time of the separation were increased by an exchange factor of approximately 1.12 . in addition , the exercise price of unexercised stock options and sars at the time of the separation was converted to decrease the exercise price by an exchange factor of approximately 1.12 . ( 2 ) in connection with the combination , westrock assumed all rocktenn and mwv equity incentive plans . we issued awards to certain key employees and our directors pursuant to our rocktenn 2004 incentive stock plan , as amended , and our mwv 2005 performance incentive plan , as amended . the awards were converted into westrock awards using the conversion factor as described in the business combination agreement . ( 3 ) in connection with the smurfit-stone acquisition , we assumed the smurfit-stone equity incentive plan , which was renamed the rock-tenn company ( sscc ) equity incentive plan . the awards were converted into shares of rocktenn common stock , options and restricted stock units , as applicable , using the conversion factor as described in the merger agreement. . <table class='wikitable'><tr><td>1</td><td></td><td>shares available for issuance</td><td>shares available for future grant</td><td>shares to be issued if performance is achieved at maximum</td><td>expect to make new awards</td></tr><tr><td>2</td><td>amended and restated 2016 incentive stock plan ( 1 )</td><td>11.7</td><td>5.1</td><td>2.3</td><td>yes</td></tr><tr><td>3</td><td>2004 incentive stock plan ( 1 ) ( 2 )</td><td>15.8</td><td>3.1</td><td>0.0</td><td>no</td></tr><tr><td>4</td><td>2005 performance incentive plan ( 1 ) ( 2 )</td><td>12.8</td><td>9.0</td><td>0.0</td><td>no</td></tr><tr><td>5</td><td>rocktenn ( sscc ) equity inventive plan ( 1 ) ( 3 )</td><td>7.9</td><td>5.9</td><td>0.0</td><td>no</td></tr></table> westrock company notes to consolidated financial statements 2014 ( continued ) note 20 . stockholders 2019 equity capitalization our capital stock consists solely of common stock . holders of our common stock are entitled to one vote per share . our amended and restated certificate of incorporation also authorizes preferred stock , of which no shares have been issued . the terms and provisions of such shares will be determined by our board of directors upon any issuance of such shares in accordance with our certificate of incorporation . stock repurchase plan in july 2015 , our board of directors authorized a repurchase program of up to 40.0 million shares of our common stock , representing approximately 15% ( 15 % ) of our outstanding common stock as of july 1 , 2015 . the shares of our common stock may be repurchased over an indefinite period of time at the discretion of management . in fiscal 2019 , we repurchased approximately 2.1 million shares of our common stock for an aggregate cost of $ 88.6 million . in fiscal 2018 , we repurchased approximately 3.4 million shares of our common stock for an aggregate cost of $ 195.1 million . in fiscal 2017 , we repurchased approximately 1.8 million shares of our common stock for an aggregate cost of $ 93.0 million . as of september 30 , 2019 , we had remaining authorization under the repurchase program authorized in july 2015 to purchase approximately 19.1 million shares of our common stock . note 21 . share-based compensation share-based compensation plans at our annual meeting of stockholders held on february 2 , 2016 , our stockholders approved the westrock company 2016 incentive stock plan . the 2016 incentive stock plan was amended and restated on february 2 , 2018 ( the 201camended and restated 2016 incentive stock plan 201d ) . the amended and restated 2016 incentive stock plan allows for the granting of options , restricted stock , sars and restricted stock units to certain key employees and directors . the table below shows the approximate number of shares : available for issuance , available for future grant , to be issued if restricted awards granted with a performance condition recorded at target achieve the maximum award , and if new grants pursuant to the plan are expected to be issued , each as adjusted as necessary for corporate actions ( in millions ) . shares available issuance shares available for future shares to be issued if performance is achieved at maximum expect to awards amended and restated 2016 incentive stock plan ( 1 ) 11.7 5.1 2.3 yes 2004 incentive stock plan ( 1 ) ( 2 ) 15.8 3.1 0.0 no 2005 performance incentive plan ( 1 ) ( 2 ) 12.8 9.0 0.0 no rocktenn ( sscc ) equity inventive plan ( 1 ) ( 3 ) 7.9 5.9 0.0 no ( 1 ) as part of the separation , equity-based incentive awards were generally adjusted to maintain the intrinsic value of awards immediately prior to the separation . the number of unvested restricted stock awards and unexercised stock options and sars at the time of the separation were increased by an exchange factor of approximately 1.12 . in addition , the exercise price of unexercised stock options and sars at the time of the separation was converted to decrease the exercise price by an exchange factor of approximately 1.12 . ( 2 ) in connection with the combination , westrock assumed all rocktenn and mwv equity incentive plans . we issued awards to certain key employees and our directors pursuant to our rocktenn 2004 incentive stock plan , as amended , and our mwv 2005 performance incentive plan , as amended . the awards were converted into westrock awards using the conversion factor as described in the business combination agreement . ( 3 ) in connection with the smurfit-stone acquisition , we assumed the smurfit-stone equity incentive plan , which was renamed the rock-tenn company ( sscc ) equity incentive plan . the awards were converted into shares of rocktenn common stock , options and restricted stock units , as applicable , using the conversion factor as described in the merger agreement. .\""
      ]
     },
     "execution_count": 39,
     "metadata": {},
     "output_type": "execute_result"
    }
   ],
   "source": [
    "entries[605].context"
   ]
  },
  {
   "cell_type": "markdown",
   "id": "19d67376-646b-4d93-993b-6aad35701730",
   "metadata": {
    "jp-MarkdownHeadingCollapsed": true
   },
   "source": [
    "### Performance by Operation"
   ]
  },
  {
   "cell_type": "markdown",
   "id": "c96942ef-249f-4a1f-9b41-4589483eefaa",
   "metadata": {},
   "source": [
    "Another interesting aspect to consider is the performance of the prototype by expected operation."
   ]
  },
  {
   "cell_type": "code",
   "execution_count": 41,
   "id": "f283c20a-7743-4421-9c68-85fdbe2e3aa5",
   "metadata": {},
   "outputs": [
    {
     "data": {
      "image/png": "[encoded data removed]",
      "text/plain": [
       "<Figure size 1200x800 with 1 Axes>"
      ]
     },
     "metadata": {},
     "output_type": "display_data"
    }
   ],
   "source": [
    "ca_op = a.computational_accuracy_by_operation()\n",
    "oa_op = a.operation_accuracy_by_operation()\n",
    "plot_by_question_type(ca_op, oa_op)"
   ]
  },
  {
   "cell_type": "markdown",
   "id": "70cfbc4c-46ad-4e63-83e0-6493df5ee956",
   "metadata": {},
   "source": [
    "The above figure compares computation and operation accuracy scores over all **operation** questions, categorised by which operation is expected to be performed. More attention should be given to the **green bars**, which show the LLM's ability to correctly identify the correct operation, over the **blue bars**, which can often penalise operations for taking on incorrect arguments from earlier on in the conversation. We see that the LLM performs quite strongly at addition, division, and comparison (and also exponentiation but the sample size is very low), but struggles a little more with subtraction and multiplication, with **operation accuracies** just missing **60%**.\n",
    "\n",
    "With subtraction, some source of error may be from incorrectly ordering arguments, as can be seen below:"
   ]
  },
  {
   "cell_type": "code",
   "execution_count": 44,
   "id": "03c29ea2-e96a-4a40-81f7-f832ced6f569",
   "metadata": {},
   "outputs": [
    {
     "name": "stdout",
     "output_type": "stream",
     "text": [
      "\u001b[1mEntry 2\u001b[0m\n",
      "----------------------------------------\n",
      "\u001b[1;31mQuestions\u001b[0m\n",
      "what was the total of net sales in 2001?\n",
      "and what was that in 2000?\n",
      "what was, then, the change in the total of net sales over the year?\n",
      "and how much does this change represent in relation to that total in 2000, in percentage?\n",
      "----------------------------------------\n",
      "\u001b[1;34mComputations\u001b[0m\n",
      "Expected : [5363.0, 7983.0, -2620.0, -0.3282]\n",
      "Generated: [5363.0, 7983.0, 2620.0, 0.3281974195164725]\n",
      "\u001b[34mComputational Accuracy:\u001b[0m Accuracy(score=2, total=4, accuracy=0.5)\n",
      "----------------------------------------\n",
      "\u001b[1;32mRetrievals and Operations\u001b[0m\n",
      "Expected : ['5363', '7983', 'subtract(5363.0, 7983.0)', 'divide(ANS2, 7983.0)']\n",
      "Generated: ['5363', '7983', 'subtract(ANS1, ANS0)', 'divide(ANS2, ANS1)']\n",
      "\u001b[32mRetrieval Accuracy:\u001b[0m Accuracy(score=2, total=2, accuracy=1.0)\n",
      "\u001b[32mOperation Accuracy:\u001b[0m Accuracy(score=1, total=2, accuracy=0.5)\n",
      "----------------------------------------\n",
      "\n"
     ]
    }
   ],
   "source": [
    "a.compare([2])"
   ]
  },
  {
   "cell_type": "markdown",
   "id": "759c8117-65d0-4934-b380-733779c330dc",
   "metadata": {},
   "source": [
    "In entry 2, for the third question, the LLM is asked what the change in the total of net sales over the year is, and the LLM performs the subtraction in the opposite order to what is expected. In fact, if we test for reversed subtraction instead of correct subtraction, we get:"
   ]
  },
  {
   "cell_type": "code",
   "execution_count": 47,
   "id": "625ac6b6-fb62-4203-8659-53fbb5bfe4d3",
   "metadata": {},
   "outputs": [
    {
     "data": {
      "text/plain": [
       "Accuracy(score=419, total=2295, accuracy=0.18257080610021786)"
      ]
     },
     "execution_count": 47,
     "metadata": {},
     "output_type": "execute_result"
    }
   ],
   "source": [
    "a.backward_subtraction()"
   ]
  },
  {
   "cell_type": "markdown",
   "id": "fd612034-90e2-463c-bd07-965a2cba005e",
   "metadata": {},
   "source": [
    "That is **18%** of all subtraction operations being marked incorrect because the LLM put the two arguments in the wrong order - this may be due to language ambiguity from the user, and perhaps we should not be so harsh to judge these cases as \"wrong\", but in the case above, including the negative sign to indicate there was a drop between 2000 and 2001 may be considered important."
   ]
  },
  {
   "cell_type": "markdown",
   "id": "58c1306d-a7e5-41ac-9bea-ca851140c37a",
   "metadata": {
    "jp-MarkdownHeadingCollapsed": true
   },
   "source": [
    "### Type 1 vs Type 2 Entries"
   ]
  },
  {
   "cell_type": "markdown",
   "id": "ebc006e2-2e9b-4360-87b0-a99aa5dc6804",
   "metadata": {},
   "source": [
    "The authors of the ConvFinQA dataset describe two different types of conversations:\n",
    "\n",
    "* **Type 1**: These are simple conversations formed by the decomposition of a single multi-hop question\n",
    "* **Type 2**: These are hybrid conversations formed by the decomposition and integration of two multi-hop questions\n",
    "\n",
    "We can compare the accuracy of the two conversation types:"
   ]
  },
  {
   "cell_type": "code",
   "execution_count": 49,
   "id": "56a67943-4286-4719-b78b-fed85cafe115",
   "metadata": {},
   "outputs": [
    {
     "data": {
      "text/plain": [
       "Accuracy(score=4552, total=7463, accuracy=0.6099423824199384)"
      ]
     },
     "execution_count": 49,
     "metadata": {},
     "output_type": "execute_result"
    }
   ],
   "source": [
    "# Type 1 Computational Accuracy\n",
    "a.computational_accuracy(type1_entries.keys())"
   ]
  },
  {
   "cell_type": "code",
   "execution_count": 51,
   "id": "63bbf15a-440e-4a89-aff0-4c0ff4a5dec2",
   "metadata": {},
   "outputs": [
    {
     "data": {
      "text/plain": [
       "Accuracy(score=1983, total=3555, accuracy=0.5578059071729958)"
      ]
     },
     "execution_count": 51,
     "metadata": {},
     "output_type": "execute_result"
    }
   ],
   "source": [
    "# Type 2 Computational Accuracy\n",
    "a.computational_accuracy(type2_entries.keys())"
   ]
  },
  {
   "cell_type": "code",
   "execution_count": 53,
   "id": "051cb55d-f7c9-474a-93ec-a5b5dc60a50d",
   "metadata": {},
   "outputs": [
    {
     "data": {
      "text/plain": [
       "Accuracy(score=3290, total=4619, accuracy=0.7122753842823122)"
      ]
     },
     "execution_count": 53,
     "metadata": {},
     "output_type": "execute_result"
    }
   ],
   "source": [
    "# Type 1 Operation Accuracy\n",
    "a.operation_accuracy(type1_entries.keys())"
   ]
  },
  {
   "cell_type": "code",
   "execution_count": 55,
   "id": "62debe73-2258-4d6b-98d8-18a598cf719d",
   "metadata": {},
   "outputs": [
    {
     "data": {
      "text/plain": [
       "Accuracy(score=1507, total=2506, accuracy=0.6013567438148444)"
      ]
     },
     "execution_count": 55,
     "metadata": {},
     "output_type": "execute_result"
    }
   ],
   "source": [
    "# Type 2 Operation Accuracy\n",
    "a.operation_accuracy(type2_entries.keys())"
   ]
  },
  {
   "cell_type": "markdown",
   "id": "dc657196-65d4-453c-9b62-79db33b30667",
   "metadata": {},
   "source": [
    "As we might expect, the simpler conversations seem to have higher accuracy. This is likely because Type 1 conversations involve a single, more straightforward multi-hop question, making it easier for the model to maintain context and focus. In contrast, Type 2 conversations involve integrating and synthesizing information from two separate multi-hop questions, which introduces additional complexity and potential for errors. The increased difficulty of managing and correctly integrating multiple pieces of information contributes to the lower accuracy observed in Type 2 conversations."
   ]
  },
  {
   "cell_type": "markdown",
   "id": "675fdbcd-3c53-45bd-9270-3825d51415f5",
   "metadata": {
    "jp-MarkdownHeadingCollapsed": true
   },
   "source": [
    "## Potential Improvements"
   ]
  },
  {
   "cell_type": "markdown",
   "id": "1d35eb4a-735b-431e-be93-e73533030dbd",
   "metadata": {},
   "source": [
    "The results show a good foundation upon which to build, but there is still some room to go to bring the accuracy scores close to 1. This section describes some of the potential improvements that could be made to the system."
   ]
  },
  {
   "cell_type": "markdown",
   "id": "968dc381-dc85-4a32-a1e2-95eff667bc04",
   "metadata": {
    "jp-MarkdownHeadingCollapsed": true
   },
   "source": [
    "### Retries<a id='retries'></a>"
   ]
  },
  {
   "cell_type": "markdown",
   "id": "c3c0cd71-270c-4f72-9c74-5c208f376129",
   "metadata": {},
   "source": [
    "There are some cases where the LLM produces an answer in the wrong format, such as entries 3 and 18 below:"
   ]
  },
  {
   "cell_type": "code",
   "execution_count": 57,
   "id": "1efe087b-f0a2-47ba-87ac-6d4aa4ef1414",
   "metadata": {},
   "outputs": [
    {
     "name": "stdout",
     "output_type": "stream",
     "text": [
      "\u001b[1mEntry 3\u001b[0m\n",
      "----------------------------------------\n",
      "\u001b[1;31mQuestions\u001b[0m\n",
      "what was the change in the performance of the united parcel service inc . from 2004 to 2009?\n",
      "and how much does this change represent in relation to that performance in 2004, in percentage?\n",
      "what was the performance value of the s&p 500 index in 2009?\n",
      "what was, then, the change in that performance from 2004 to 2009?\n",
      "and how much does this change represent in relation to that performance in 2004, in percentage?\n",
      "what is, then, the difference between the percent representation of the united parcel service inc . and the s&p 500 index?\n",
      "----------------------------------------\n",
      "\u001b[1;34mComputations\u001b[0m\n",
      "Expected : [-24.05, -0.2405, 102.11, 2.11, 0.0211, -0.2616]\n",
      "Generated: [nan, nan, 102.11, 2.1099999999999994, nan, nan]\n",
      "\u001b[34mComputational Accuracy:\u001b[0m Accuracy(score=2, total=6, accuracy=0.3333333333333333)\n",
      "----------------------------------------\n",
      "\u001b[1;32mRetrievals and Operations\u001b[0m\n",
      "Expected : ['subtract(75.95, 100)', 'divide(ANS0, 100)', '102.11', 'subtract(102.11, 100)', 'divide(ANS3, 100)', 'subtract(ANS1, ANS4)']\n",
      "Generated: ['subtract(column 6, column 1, row 2)', 'divide(ANS0, 100, row 2, column 1)', '102.11', 'subtract(ANS2, 100)', 'multiply(ANS3, 100, column 1, row 3)', 'subtract(ANS1, ANS4)\\nANS5']\n",
      "\u001b[32mRetrieval Accuracy:\u001b[0m Accuracy(score=1, total=1, accuracy=1.0)\n",
      "\u001b[32mOperation Accuracy:\u001b[0m Accuracy(score=2, total=5, accuracy=0.4)\n",
      "----------------------------------------\n",
      "\n",
      "\u001b[1mEntry 18\u001b[0m\n",
      "----------------------------------------\n",
      "\u001b[1;31mQuestions\u001b[0m\n",
      "what is the compensation expense the company recorded in 2015?\n",
      "what about in 2014?\n",
      "what is the total compensation expense the company recorded in 2015 and 2014?\n",
      "what is the total expenses including 2013?\n",
      "what is the average for three years?\n",
      "----------------------------------------\n",
      "\u001b[1;34mComputations\u001b[0m\n",
      "Expected : [43.0, 34.0, 77.0, 121.0, 40.33333]\n",
      "Generated: [nan, nan, nan, nan, nan]\n",
      "\u001b[34mComputational Accuracy:\u001b[0m Accuracy(score=0, total=5, accuracy=0.0)\n",
      "----------------------------------------\n",
      "\u001b[1;32mRetrievals and Operations\u001b[0m\n",
      "Expected : ['43', '34', 'add(43.0, 34.0)', 'add(ANS2, 44.0)', 'divide(ANS3, 3)']\n",
      "Generated: ['43 million', 'subtract(43 million, 68 million)', 'add(ANS0, ANS1)', 'add(ANS2, 44 million)', 'divide(ANS3, 3)']\n",
      "\u001b[32mRetrieval Accuracy:\u001b[0m Accuracy(score=0, total=2, accuracy=0.0)\n",
      "\u001b[32mOperation Accuracy:\u001b[0m Accuracy(score=2, total=3, accuracy=0.6666666666666666)\n",
      "----------------------------------------\n",
      "\n"
     ]
    }
   ],
   "source": [
    "a.compare([3, 18])"
   ]
  },
  {
   "cell_type": "markdown",
   "id": "d300f78c-62ea-4aa9-aa9e-cd9d183364fc",
   "metadata": {},
   "source": [
    "In entry 3, we see some unusual answers where the arguments to operations contain **column and row numbers**, so are unable to be parsed properly to produce a result. In entry 18, the first question is answered \"43 million\", which is **not in an expected format**. Results may improve if the system caught these cases and **sent a message back** to the LLM, saying that the response was not formatted correctly, reminding the LLM of the correct format, and asking it to **try again**, multiple times if necessary."
   ]
  },
  {
   "cell_type": "markdown",
   "id": "72831775-999c-4c65-8cd0-d4604c079c13",
   "metadata": {
    "jp-MarkdownHeadingCollapsed": true
   },
   "source": [
    "### Multi-Operation Responses"
   ]
  },
  {
   "cell_type": "markdown",
   "id": "e4428cc0-1d05-42ca-9e5b-9f738c926dcf",
   "metadata": {},
   "source": [
    "Some entries contain questions that require multiple operations. For example, entry 407:"
   ]
  },
  {
   "cell_type": "code",
   "execution_count": 59,
   "id": "b0637080-b30e-44aa-aa09-6de0d4375c3e",
   "metadata": {},
   "outputs": [
    {
     "name": "stdout",
     "output_type": "stream",
     "text": [
      "what was, in millions the total of commercial mortgage recourse obligations in the end of 2014?\n",
      "35\n",
      "---------\n",
      "and what was it in the beginning of that year?\n",
      "33\n",
      "---------\n",
      "what was, then, the change over the year?\n",
      "subtract(35, 33)\n",
      "---------\n",
      "and what were the average obligations for that year?\n",
      "add(35, 33);divide(#0, 2)\n",
      "---------\n"
     ]
    }
   ],
   "source": [
    "multis = load_data(f\"../data/processed/train3.json\")\n",
    "for q, ans in zip(multis[407].questions, multis[407].answers):\n",
    "    print(q)\n",
    "    print(ans)\n",
    "    print(\"---------\")"
   ]
  },
  {
   "cell_type": "markdown",
   "id": "82225005-e05c-4d93-82e8-9bc85f516f66",
   "metadata": {},
   "source": [
    "Accounting for these cases would be a good extension to the system's capabilities, and it would be interesting to see how updates to the **few-shot prompt** and **reminder messages** throughout the conversation about the possibility of **multi-operation formats** would affect the performance of the system in **non-multi-operation** questions."
   ]
  },
  {
   "cell_type": "markdown",
   "id": "89c39519-eb15-4727-a285-42912a63e241",
   "metadata": {
    "jp-MarkdownHeadingCollapsed": true
   },
   "source": [
    "### Parsing Mechanisms"
   ]
  },
  {
   "cell_type": "markdown",
   "id": "a45c54f2-c943-49e0-8d29-1b58e000ce4e",
   "metadata": {},
   "source": [
    "Given that the LLM can often produce unexpected responses, it may be a good idea to be able to handle parsing extra cases that were **not necessarily specified** in the few-shot prompt. Handling cases such as the \"43 million\" example in the [Retries](#retries) section above, or a subtraction using a \"-\" sign instead of the specified format as seen below, may be better than **performing retries**, which would **increase latency**."
   ]
  },
  {
   "cell_type": "code",
   "execution_count": 61,
   "id": "650f2d28-8e4a-4470-82f9-6dab849070d8",
   "metadata": {},
   "outputs": [
    {
     "name": "stdout",
     "output_type": "stream",
     "text": [
      "\u001b[1mEntry 596\u001b[0m\n",
      "----------------------------------------\n",
      "\u001b[1;31mQuestions\u001b[0m\n",
      "what is the net change in total liquidity resources from 2016 to 2017?\n",
      "what is that change divided by the 2016 value?\n",
      "----------------------------------------\n",
      "\u001b[1;34mComputations\u001b[0m\n",
      "Expected : [793.0, 0.079]\n",
      "Generated: [nan, nan]\n",
      "\u001b[34mComputational Accuracy:\u001b[0m Accuracy(score=0, total=2, accuracy=0.0)\n",
      "----------------------------------------\n",
      "\u001b[1;32mRetrievals and Operations\u001b[0m\n",
      "Expected : ['subtract(10831.0, 10038.0)', 'divide(ANS0, 10038.0)']\n",
      "Generated: ['10831 - 10038', 'divide(ANS0, 10038)']\n",
      "\u001b[32mRetrieval Accuracy:\u001b[0m Accuracy(score=0, total=0, accuracy=0)\n",
      "\u001b[32mOperation Accuracy:\u001b[0m Accuracy(score=1, total=2, accuracy=0.5)\n",
      "----------------------------------------\n",
      "\n"
     ]
    }
   ],
   "source": [
    "a.compare([596])"
   ]
  },
  {
   "cell_type": "markdown",
   "id": "2e341a65-ca6c-49c4-9895-4ee36ff6729b",
   "metadata": {
    "jp-MarkdownHeadingCollapsed": true
   },
   "source": [
    "## Conclusion"
   ]
  },
  {
   "cell_type": "markdown",
   "id": "28586d93-81c5-45c7-b51a-80a3d1d653c4",
   "metadata": {},
   "source": [
    "This LLM-Based Prototype demonstrates some strong potential in answering complex financial questions using LLMs. By leveraging the **Mistral-Nemo-Instruct-2407**, which boasts a **large context window** and **strong text generation capabilities**, the prototype presents the ability to handle both retrieval and operation-style queries effectively.\n",
    "\n",
    "Performance metrics indicate **retrieval** and **operation accuracies** of around **70%** reflecting the prototype’s general effectiveness. The ability to accurately answer questions, particularly those involving direct data retrieval and computational operations, underscores the system’s potential. However, the knock-on effect of having errors early on leads to a **computational accuracy** of just under **60%**, highlighting the presence of areas for improvement.\n",
    "\n",
    "Future work should focus on refining the **parsing mechanisms**, handling questions that require **multiple operations**, and potentially exploring additional **fine-tuning** to improve accuracy. By addressing these areas, the prototype can be further optimised to provide more reliable and precise answers, ultimately delivering a more effective tool for users needing to extract and compute financial information."
   ]
  },
  {
   "cell_type": "markdown",
   "id": "6a31ca72-e618-4124-8403-1354f5291412",
   "metadata": {
    "jp-MarkdownHeadingCollapsed": true
   },
   "source": [
    "## Appendix"
   ]
  },
  {
   "cell_type": "markdown",
   "id": "1cbef805-6c3d-439d-b037-4e526d1527fc",
   "metadata": {
    "jp-MarkdownHeadingCollapsed": true
   },
   "source": [
    "### Appendix A: Few-Shot Prompt<a id='appendix-a'></a>"
   ]
  },
  {
   "cell_type": "markdown",
   "id": "1376c8fb-3647-41ee-ab08-729b3130bede",
   "metadata": {},
   "source": [
    "All conversations start with a few-shot prompt, which is an artificial conversation between a user and an assistant, with the LLM to take the role of the assistant during the main conversation:"
   ]
  },
  {
   "cell_type": "markdown",
   "id": "9741a9e1-a474-4866-9c1a-7fbc13345682",
   "metadata": {},
   "source": [
    "---"
   ]
  },
  {
   "cell_type": "markdown",
   "id": "69623a41-d18e-495b-b81d-51bbc91333a2",
   "metadata": {},
   "source": [
    "**User**: You will be given a some context and then some questions that you will need to answer based on that context.\n",
    "\n",
    "Each of your answers must start with a prefix ANS{i} = {your answer}, where {i} is replaced by the current question number (e.g. ANS0 for question 0, ANS1 for question 1, etc.), and {your answer} is filled with your answer.\n",
    "Your answer will take one of two forms. You will need to understand whether the question is asking for retrieval of data from the context, or an operation to be performed on two retrieved or derived figures.\n",
    "In the first case (retrieval), you must find the correct number that answers the question, and replace {your answer} with that exact number. If the value is a percentage, make sure to include the percentage sign at the end.\n",
    "In the second case (operation), you must tell me the correct operation as well as the correct arguments for that operation. This must be written in the form \"operation(arg1, arg2)\". The following operations are permitted:\n",
    "* add\n",
    "* subtract\n",
    "* multiply\n",
    "* divide\n",
    "* exp\n",
    "* greater\n",
    "\n",
    "Each argument must either be lifted from the text, in the same format as a you would provide for the retrieval case, or must be references to previous answers, written as ANS{i} where {i} is replaced with the index of the suitable answer.\n",
    "For example, if you determine that the correct operation is to divide 3456 by ANS3, {your answer} will be replaced by \"divide(3456, ANS3)\".\n",
    "I will provide an example conversation."
   ]
  },
  {
   "cell_type": "markdown",
   "id": "7db1137c-4344-4762-bda6-b9cd5b0acdbc",
   "metadata": {},
   "source": [
    "**Assistant**: Understood. Please provide your example conversation."
   ]
  },
  {
   "cell_type": "markdown",
   "id": "9b752dbf-7623-4d0b-bc7c-1650b43b9cb6",
   "metadata": {},
   "source": [
    "**User**: This is the context:"
   ]
  },
  {
   "cell_type": "markdown",
   "id": "150debf8-1935-4c67-bea1-46a69189db23",
   "metadata": {},
   "source": [
    "<table class='wikitable'><tr><td>1</td><td>year</td><td>1993</td><td>1994</td><td>1995</td></tr><tr><td>2</td><td>revenue</td><td>£23,456</td><td>£43,219</td><td>£101,129</td></tr><tr><td>3</td><td>costs</td><td>£40,987</td><td>£47,231</td><td>£60,943</td></tr></table>"
   ]
  },
  {
   "cell_type": "markdown",
   "id": "874988f5-5801-46bc-9272-a63e230857b9",
   "metadata": {},
   "source": [
    "**Assistant**: Understood. What are your questions?"
   ]
  },
  {
   "cell_type": "markdown",
   "id": "28cf06fb-adfc-41a3-9dc1-d7216edf5fa8",
   "metadata": {},
   "source": [
    "**User**: Q0: What was the revenue in 1993?"
   ]
  },
  {
   "cell_type": "markdown",
   "id": "71df8284-011a-4ef1-b1f1-a6f4135ff787",
   "metadata": {},
   "source": [
    "**Assistant**: ANS0 = 23456"
   ]
  },
  {
   "cell_type": "markdown",
   "id": "fa88b788-428b-4951-91dc-2245209bf9e2",
   "metadata": {},
   "source": [
    "**User**: Ok, so ANS0 = 23456. Now the next question:\n",
    "\n",
    "Q1: What was the profit in 1993?"
   ]
  },
  {
   "cell_type": "markdown",
   "id": "0cda81f4-2a61-4643-8e54-17bf89808697",
   "metadata": {},
   "source": [
    "\n",
    "**Assistant**: ANS1 = subtract(ANS0, 40987)"
   ]
  },
  {
   "cell_type": "markdown",
   "id": "08c8613a-cd66-461c-96b7-11f2a6d28153",
   "metadata": {},
   "source": [
    "**User**: Ok, so ANS1 = -17531. Now the next question:\n",
    "\n",
    "Q2: What was the profit in 1994?"
   ]
  },
  {
   "cell_type": "markdown",
   "id": "fb6cfde0-0bbe-48e4-b9a0-dc7ca7d15940",
   "metadata": {},
   "source": [
    "**Assistant**: ANS2 = subtract(43219, 47231)"
   ]
  },
  {
   "cell_type": "markdown",
   "id": "0ba0fe25-092e-4d16-82d9-cba7c9145f2d",
   "metadata": {},
   "source": [
    "**User**: Ok, so ANS2 = -4012. Now the next question:\n",
    "\n",
    "Q3: What was the percentage change in profit between 1993 and 1994?"
   ]
  },
  {
   "cell_type": "markdown",
   "id": "426942ef-474b-4ca9-a2a9-974b5a0a0ff3",
   "metadata": {},
   "source": [
    "**Assistant**: ANS3 = divide(ANS2, ANS1)"
   ]
  },
  {
   "cell_type": "markdown",
   "id": "c9aaf5fe-de5e-4456-a2ad-dfb451f91303",
   "metadata": {},
   "source": [
    "**User**: Ok, so ANS3 = 0.22885174833. Now the next question:\n",
    "\n",
    "Q4: What was the total revenue in 1993 and 1994?"
   ]
  },
  {
   "cell_type": "markdown",
   "id": "6f52924a-6c77-4bc1-b637-2a316ede3b37",
   "metadata": {},
   "source": [
    "**Assistant**: ANS4 = add(ANS0, 43219)"
   ]
  },
  {
   "cell_type": "markdown",
   "id": "79a54c2a-be6f-42cd-baf9-ed5144bebc81",
   "metadata": {},
   "source": [
    "**User**: Good. Now we will do another example."
   ]
  },
  {
   "cell_type": "markdown",
   "id": "bd43f5d5-4369-40f4-8216-1e4fda7578c1",
   "metadata": {},
   "source": [
    "**Assistant**: Ok, what is the context?"
   ]
  },
  {
   "cell_type": "markdown",
   "id": "f908ad52-ad7d-41e3-8186-d63afcbb0b5b",
   "metadata": {},
   "source": [
    "**User**:"
   ]
  },
  {
   "cell_type": "markdown",
   "id": "8ed6a8fe-d516-45ce-80ea-84d37589f700",
   "metadata": {},
   "source": [
    "<table class='wikitable'><tr><td>customer</td><td>loan value (€)</td><td>interest rate (%)</td></tr><tr><td>1</td><td>2,014.45</td><td>9.27</td></tr><tr><td>2</td><td>23,015.13</td><td>9.11</td></tr><tr><td>3</td><td>1,095.42</td><td>8.77</td></tr><tr><td>4</td><td>13,732.56</td><td>10.10</td></tr></table>"
   ]
  },
  {
   "cell_type": "markdown",
   "id": "6c656e04-58b2-4858-b322-9cc737ef2cba",
   "metadata": {},
   "source": [
    "**Assistant**: Understood. What are your questions?"
   ]
  },
  {
   "cell_type": "markdown",
   "id": "96fd69c0-bc0c-4d5e-9fd9-260d4c2d266b",
   "metadata": {},
   "source": [
    "**User**: Q0: What is the interest rate for customer 3's loan?"
   ]
  },
  {
   "cell_type": "markdown",
   "id": "2157ffdd-b24c-4b49-8c0f-6eb7d8741063",
   "metadata": {},
   "source": [
    "**Assistant**: ANS0 = 8.77%"
   ]
  },
  {
   "cell_type": "markdown",
   "id": "f3ddf4d7-17d7-42ab-bff7-f1604c143c53",
   "metadata": {},
   "source": [
    "**User**: Ok, so ANS0 = 0.0877. Now the next question:\n",
    "\n",
    "Q1: What do I have to multiply customer 3's loan value by to get the loan's value in a year?"
   ]
  },
  {
   "cell_type": "markdown",
   "id": "e6e3082b-d584-4ddc-81d3-63c2e1ef22c6",
   "metadata": {},
   "source": [
    "**Assistant**: ANS1 = add(1, ANS0)"
   ]
  },
  {
   "cell_type": "markdown",
   "id": "36622b23-2b36-4170-9857-8d8b5fc1a79a",
   "metadata": {},
   "source": [
    "**User**: Ok, so ANS1 = 1.0877. Now the next question:\n",
    "\n",
    "Q2: How about after 7 years?"
   ]
  },
  {
   "cell_type": "markdown",
   "id": "3fae2bab-a473-4048-b166-26326e418c83",
   "metadata": {},
   "source": [
    "**Assistant**: ANS2 = exp(ANS1, 7)"
   ]
  },
  {
   "cell_type": "markdown",
   "id": "f296e7f9-d6ea-46a0-b023-d81ef042c0ab",
   "metadata": {},
   "source": [
    "**User**: Ok, so ANS2 = 1.80120813492. Now the next question:\n",
    "\n",
    "Q3: So what is the loan's value after 7 years assuming no repayments?"
   ]
  },
  {
   "cell_type": "markdown",
   "id": "a79968f7-6c70-40ac-b4f2-5404a991e49d",
   "metadata": {},
   "source": [
    "**Assistant**: ANS3 = multiply(1095.42, ANS2)"
   ]
  },
  {
   "cell_type": "markdown",
   "id": "56806f13-0110-444e-91cb-e0494a173e24",
   "metadata": {},
   "source": [
    "**User**: Ok, so ANS3 = 1973.07941515. Now the next question:\n",
    "\n",
    "Q4: What do I have to multiply customer 2's loan value by to get the loan's value in a year?"
   ]
  },
  {
   "cell_type": "markdown",
   "id": "7fa60a33-c0aa-47e0-b655-a8142b17a741",
   "metadata": {},
   "source": [
    "**Assistant**: ANS4 = add(1, 9.11%)"
   ]
  },
  {
   "cell_type": "markdown",
   "id": "8a8719d1-b1e1-464b-9da4-d0c4fa8f56f7",
   "metadata": {},
   "source": [
    "**User**: Ok, so ANS4 = 1.0911. Now the next question:\n",
    "\n",
    "Q5: Is customer 3's loan after 7 years less than customer 2's loan after 1 year, assuming no repayments?"
   ]
  },
  {
   "cell_type": "markdown",
   "id": "2f39adb0-051c-4d98-ba32-3fda32d94cdc",
   "metadata": {},
   "source": [
    "**Assistant**: ANS5 = greater(ANS4, ANS3)"
   ]
  },
  {
   "cell_type": "markdown",
   "id": "2fe71503-e013-4288-b27d-7d0340835f92",
   "metadata": {},
   "source": [
    "**User**: Good. Now we will start the actual exercise."
   ]
  },
  {
   "cell_type": "markdown",
   "id": "6ae9eec1-648f-4054-b192-2a4cdb64eded",
   "metadata": {},
   "source": [
    "**Assistant**: Great! What is the context?"
   ]
  },
  {
   "cell_type": "markdown",
   "id": "3a8e91ca-5287-4ebc-8877-4c5735c5bc3e",
   "metadata": {},
   "source": [
    "---"
   ]
  },
  {
   "cell_type": "markdown",
   "id": "e70c9ce6-5caa-4e67-a513-88a60403b842",
   "metadata": {},
   "source": [
    "The above conversation aims to show a use of all the possible operations, while repeating the response format that is expected to be used throughout the actual conversation.\n",
    "\n",
    "The user's context is then provided in the following way:"
   ]
  },
  {
   "cell_type": "markdown",
   "id": "ed05f8bd-fb33-4194-a7d2-7e1c55425f06",
   "metadata": {},
   "source": [
    "---"
   ]
  },
  {
   "cell_type": "markdown",
   "id": "8726a6fd-55c2-4de0-9e0b-3ba35e43984a",
   "metadata": {},
   "source": [
    "**User**: {context}"
   ]
  },
  {
   "cell_type": "markdown",
   "id": "45b1da75-3373-4a6f-99b2-b318ee620601",
   "metadata": {},
   "source": [
    "**Assistant**: Understood. And what are your questions? I will make sure to only answer with a number, including a percentage sign \\\"%\\\" if I am asked for a percentage, or in the form operation(arg1, arg2)."
   ]
  },
  {
   "cell_type": "markdown",
   "id": "d8af1509-3a20-4a14-85be-c37ae5392bed",
   "metadata": {},
   "source": [
    "---"
   ]
  },
  {
   "cell_type": "markdown",
   "id": "e47e4748-e902-4b90-b624-c8adfd53efb0",
   "metadata": {},
   "source": [
    "From here, the main conversation begins."
   ]
  },
  {
   "cell_type": "markdown",
   "id": "09b8dcf3-bfc3-43ed-837a-fb5ab58cd95d",
   "metadata": {
    "jp-MarkdownHeadingCollapsed": true
   },
   "source": [
    "### Appendix B: Response Format<a id='appendix-b'></a>"
   ]
  },
  {
   "cell_type": "markdown",
   "id": "d59e2a4e-7536-4b24-b556-822f2ff8b2e2",
   "metadata": {},
   "source": [
    "Each answer from the LLM is expected to be in the format \"ANS{i} = {answer}\" to ensure that the result can be parsed properly to produce a correct result. Including \"ANS{i}\", where \"i\" is the answer to the i-th question (0-indexed), allows the LLM to unambiguously reference previous answers in operation-style responses.\n",
    "\n",
    "The {answer} section is either a retrieval- or a operation-style response:\n",
    "\n",
    "* **Retrieval**: When a figure is to be retrieved from the text, it is simply copied over. During parsing, any whitespace on either side of the number and any spaces or commas within are removed. If a percentage sign is included at the end, the figure is divided by 100. The figure would then passed back as the answer to the question.\n",
    "* **Operation**: This should be of the form operation(arg1, arg2). An operation can be one of:\n",
    "    * add\n",
    "    * subtract\n",
    "    * multiply\n",
    "    * divide\n",
    "    * exp\n",
    "    * greater\n",
    "\n",
    "    The two arguments can either be a figure lifted from the text, to be processed in the same way as described above in **Retrieval**, or a reference to a previous answer in the form \"ANS{i}\", where \"i\" is the answer to the i-th question. The arguments first get converted to their numerical values and then the correct operation is performed on them. The result would then be passed back to the user."
   ]
  }
 ],
 "metadata": {
  "kernelspec": {
   "display_name": "ConvFinQA",
   "language": "python",
   "name": "convfinqa"
  },
  "language_info": {
   "codemirror_mode": {
    "name": "ipython",
    "version": 3
   },
   "file_extension": ".py",
   "mimetype": "text/x-python",
   "name": "python",
   "nbconvert_exporter": "python",
   "pygments_lexer": "ipython3",
   "version": "3.12.4"
  }
 },
 "nbformat": 4,
 "nbformat_minor": 5
}
