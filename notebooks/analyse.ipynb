{
 "cells": [
  {
   "cell_type": "code",
   "execution_count": 1,
   "id": "40efb7d3-c85e-4ff0-b302-1303f7ea5b9e",
   "metadata": {},
   "outputs": [],
   "source": [
    "import sys\n",
    "import os\n",
    "\n",
    "src_path = \"../src\"\n",
    "sys.path.insert(0, src_path)\n",
    "\n",
    "hf_token = os.environ[\"HUGGINGFACE_TOKEN\"]"
   ]
  },
  {
   "cell_type": "code",
   "execution_count": 2,
   "id": "a0e8f983-fcf6-47c7-a94e-2c70baba1591",
   "metadata": {},
   "outputs": [],
   "source": [
    "from data import load_data\n",
    "from client import Client\n",
    "from tester import Tester"
   ]
  },
  {
   "cell_type": "code",
   "execution_count": 3,
   "id": "fae755e2-1563-4b20-8240-8a8df17c250e",
   "metadata": {},
   "outputs": [],
   "source": [
    "import pickle\n",
    "with open(\"../data/runs/run1.pickle\", \"rb\") as conversation_file:\n",
    "    conversations1 = pickle.load(conversation_file)\n",
    "with open(\"../data/runs/run2.pickle\", \"rb\") as conversation_file:\n",
    "    conversations2 = pickle.load(conversation_file)"
   ]
  },
  {
   "cell_type": "code",
   "execution_count": 4,
   "id": "6c3818fc-7136-406d-bb65-4de139290ff2",
   "metadata": {},
   "outputs": [],
   "source": [
    "data = [load_data(f\"../data/processed/train{i}.json\") for i in range(1, 4)]\n",
    "entries = data[0] | data[1]\n",
    "c = Client(\n",
    "    \"mistralai/Mistral-Nemo-Instruct-2407\",\n",
    "    token=hf_token,\n",
    ")\n",
    "t_1 = Tester(c, entries)\n",
    "t_2 = Tester(c, entries)\n",
    "indices = sorted(list(entries.keys()))"
   ]
  },
  {
   "cell_type": "code",
   "execution_count": 5,
   "id": "f7c43cac-d9b4-4d32-80c1-ef57e17bd546",
   "metadata": {},
   "outputs": [],
   "source": [
    "t_1.conversations = conversations1\n",
    "t_2.conversations = conversations2"
   ]
  },
  {
   "cell_type": "markdown",
   "id": "9a17c2a9-e06e-4667-8e72-c6f0dc0be71b",
   "metadata": {},
   "source": [
    "# Run 2 Results"
   ]
  },
  {
   "cell_type": "code",
   "execution_count": 7,
   "id": "18f2209d-7d36-4a7d-8861-fce2931fc045",
   "metadata": {},
   "outputs": [
    {
     "name": "stdout",
     "output_type": "stream",
     "text": [
      "1133\n"
     ]
    }
   ],
   "source": [
    "N = len(conversations2)\n",
    "print(N)"
   ]
  },
  {
   "cell_type": "code",
   "execution_count": 14,
   "id": "52fed590-0293-4c8a-b9a4-ce1633d5542e",
   "metadata": {},
   "outputs": [],
   "source": [
    "computed_indices = indices[:N]"
   ]
  },
  {
   "cell_type": "code",
   "execution_count": 16,
   "id": "c0ab1fa4-df32-40dd-9cff-721b9fb3945b",
   "metadata": {},
   "outputs": [
    {
     "data": {
      "text/plain": [
       "Accuracy(score=2440, total=4170, accuracy=0.5851318944844125)"
      ]
     },
     "execution_count": 16,
     "metadata": {},
     "output_type": "execute_result"
    }
   ],
   "source": [
    "t_2.answer_accuracy(computed_indices)"
   ]
  },
  {
   "cell_type": "code",
   "execution_count": 18,
   "id": "d19358e6-ea92-4c75-8fd8-a572d0f46de5",
   "metadata": {},
   "outputs": [
    {
     "data": {
      "text/plain": [
       "{'add': Accuracy(score=269, total=431, accuracy=0.6241299303944315),\n",
       " 'subtract': Accuracy(score=434, total=869, accuracy=0.4994246260069045),\n",
       " 'multiply': Accuracy(score=72, total=156, accuracy=0.46153846153846156),\n",
       " 'divide': Accuracy(score=622, total=1203, accuracy=0.5170407315045719),\n",
       " 'exp': Accuracy(score=0, total=0, accuracy=0),\n",
       " 'greater': Accuracy(score=10, total=13, accuracy=0.7692307692307693)}"
      ]
     },
     "execution_count": 18,
     "metadata": {},
     "output_type": "execute_result"
    }
   ],
   "source": [
    "t_2.answer_accuracy_by_operation(computed_indices)"
   ]
  },
  {
   "cell_type": "code",
   "execution_count": 20,
   "id": "b9b38b55-d7a6-4991-9411-16eb3a02ac21",
   "metadata": {},
   "outputs": [
    {
     "data": {
      "text/plain": [
       "[Accuracy(score=750, total=1133, accuracy=0.6619593998234775),\n",
       " Accuracy(score=731, total=1130, accuracy=0.6469026548672566),\n",
       " Accuracy(score=440, total=856, accuracy=0.514018691588785),\n",
       " Accuracy(score=315, total=617, accuracy=0.5105348460291734),\n",
       " Accuracy(score=139, total=295, accuracy=0.4711864406779661),\n",
       " Accuracy(score=43, total=98, accuracy=0.4387755102040816),\n",
       " Accuracy(score=16, total=31, accuracy=0.5161290322580645),\n",
       " Accuracy(score=5, total=9, accuracy=0.5555555555555556),\n",
       " Accuracy(score=1, total=1, accuracy=1.0)]"
      ]
     },
     "execution_count": 20,
     "metadata": {},
     "output_type": "execute_result"
    }
   ],
   "source": [
    "t_2.answer_accuracy_by_question_number(computed_indices)"
   ]
  },
  {
   "cell_type": "code",
   "execution_count": 22,
   "id": "a16c0852-cb9a-4c64-867f-054e5464f165",
   "metadata": {},
   "outputs": [
    {
     "data": {
      "text/plain": [
       "{'retrieval': Accuracy(score=1033, total=1498, accuracy=0.6895861148197597),\n",
       " 'program': Accuracy(score=1407, total=2672, accuracy=0.5265718562874252)}"
      ]
     },
     "execution_count": 22,
     "metadata": {},
     "output_type": "execute_result"
    }
   ],
   "source": [
    "t_2.answer_accuracy_by_question_type(computed_indices)"
   ]
  },
  {
   "cell_type": "code",
   "execution_count": 24,
   "id": "e510b77b-9b6e-4885-bca9-5a0475580aa9",
   "metadata": {},
   "outputs": [
    {
     "data": {
      "text/plain": [
       "Accuracy(score=1802, total=2672, accuracy=0.6744011976047904)"
      ]
     },
     "execution_count": 24,
     "metadata": {},
     "output_type": "execute_result"
    }
   ],
   "source": [
    "t_2.program_accuracy(computed_indices)"
   ]
  },
  {
   "cell_type": "code",
   "execution_count": 26,
   "id": "5459529a-b08f-4368-bd07-ecf9bd3ce388",
   "metadata": {},
   "outputs": [
    {
     "data": {
      "text/plain": [
       "{'add': Accuracy(score=323, total=431, accuracy=0.7494199535962877),\n",
       " 'subtract': Accuracy(score=503, total=869, accuracy=0.5788262370540852),\n",
       " 'multiply': Accuracy(score=94, total=156, accuracy=0.6025641025641025),\n",
       " 'divide': Accuracy(score=872, total=1203, accuracy=0.7248545303408146),\n",
       " 'exp': Accuracy(score=0, total=0, accuracy=0),\n",
       " 'greater': Accuracy(score=10, total=13, accuracy=0.7692307692307693)}"
      ]
     },
     "execution_count": 26,
     "metadata": {},
     "output_type": "execute_result"
    }
   ],
   "source": [
    "t_2.program_accuracy_by_operation(computed_indices)"
   ]
  },
  {
   "cell_type": "code",
   "execution_count": 28,
   "id": "4f9d3b4e-9930-46b3-bca4-601985a0bf66",
   "metadata": {},
   "outputs": [
    {
     "data": {
      "text/plain": [
       "[Accuracy(score=349, total=607, accuracy=0.5749588138385503),\n",
       " Accuracy(score=292, total=453, accuracy=0.6445916114790287),\n",
       " Accuracy(score=586, total=790, accuracy=0.7417721518987341),\n",
       " Accuracy(score=299, total=432, accuracy=0.6921296296296297),\n",
       " Accuracy(score=184, total=261, accuracy=0.7049808429118773),\n",
       " Accuracy(score=63, total=90, accuracy=0.7),\n",
       " Accuracy(score=22, total=29, accuracy=0.7586206896551724),\n",
       " Accuracy(score=6, total=9, accuracy=0.6666666666666666),\n",
       " Accuracy(score=1, total=1, accuracy=1.0)]"
      ]
     },
     "execution_count": 28,
     "metadata": {},
     "output_type": "execute_result"
    }
   ],
   "source": [
    "t_2.program_accuracy_by_question_number(computed_indices)"
   ]
  },
  {
   "cell_type": "markdown",
   "id": "d9f7343b-cbaf-494c-96ee-cf06c84865cc",
   "metadata": {},
   "source": [
    "# Compare Run 1 vs Run 2"
   ]
  },
  {
   "cell_type": "code",
   "execution_count": 11,
   "id": "0f001f74-309f-403e-a60a-b813aef6fe8c",
   "metadata": {},
   "outputs": [
    {
     "data": {
      "text/plain": [
       "396"
      ]
     },
     "execution_count": 11,
     "metadata": {},
     "output_type": "execute_result"
    }
   ],
   "source": [
    "len(conversations1)"
   ]
  },
  {
   "cell_type": "code",
   "execution_count": 17,
   "id": "52d3007b-1130-441c-99c6-d1959e0474f4",
   "metadata": {},
   "outputs": [],
   "source": [
    "computed_indices = indices[:396]"
   ]
  },
  {
   "cell_type": "code",
   "execution_count": 19,
   "id": "09f59003-71c7-4f6b-b425-bfd0aba1a65c",
   "metadata": {},
   "outputs": [
    {
     "data": {
      "text/plain": [
       "Accuracy(score=743, total=1449, accuracy=0.5127674258109041)"
      ]
     },
     "execution_count": 19,
     "metadata": {},
     "output_type": "execute_result"
    }
   ],
   "source": [
    "t_1.answer_accuracy(computed_indices)"
   ]
  },
  {
   "cell_type": "code",
   "execution_count": 21,
   "id": "813df6e0-fad7-4862-9e1d-16a078f0abd4",
   "metadata": {},
   "outputs": [
    {
     "data": {
      "text/plain": [
       "Accuracy(score=811, total=1449, accuracy=0.559696342305038)"
      ]
     },
     "execution_count": 21,
     "metadata": {},
     "output_type": "execute_result"
    }
   ],
   "source": [
    "t_2.answer_accuracy(computed_indices)"
   ]
  },
  {
   "cell_type": "code",
   "execution_count": 23,
   "id": "e74f33fc-1411-412b-a457-fefdd44826ea",
   "metadata": {},
   "outputs": [
    {
     "data": {
      "text/plain": [
       "{'add': Accuracy(score=80, total=140, accuracy=0.5714285714285714),\n",
       " 'subtract': Accuracy(score=130, total=306, accuracy=0.42483660130718953),\n",
       " 'multiply': Accuracy(score=22, total=62, accuracy=0.3548387096774194),\n",
       " 'divide': Accuracy(score=171, total=413, accuracy=0.41404358353510895),\n",
       " 'exp': Accuracy(score=0, total=0, accuracy=0),\n",
       " 'greater': Accuracy(score=2, total=3, accuracy=0.6666666666666666)}"
      ]
     },
     "execution_count": 23,
     "metadata": {},
     "output_type": "execute_result"
    }
   ],
   "source": [
    "t_1.answer_accuracy_by_operation(computed_indices)"
   ]
  },
  {
   "cell_type": "code",
   "execution_count": 25,
   "id": "6681fde4-099b-4e7b-a272-7007d82a9ae9",
   "metadata": {},
   "outputs": [
    {
     "data": {
      "text/plain": [
       "{'add': Accuracy(score=76, total=140, accuracy=0.5428571428571428),\n",
       " 'subtract': Accuracy(score=147, total=306, accuracy=0.4803921568627451),\n",
       " 'multiply': Accuracy(score=24, total=62, accuracy=0.3870967741935484),\n",
       " 'divide': Accuracy(score=201, total=413, accuracy=0.48668280871670705),\n",
       " 'exp': Accuracy(score=0, total=0, accuracy=0),\n",
       " 'greater': Accuracy(score=3, total=3, accuracy=1.0)}"
      ]
     },
     "execution_count": 25,
     "metadata": {},
     "output_type": "execute_result"
    }
   ],
   "source": [
    "t_2.answer_accuracy_by_operation(computed_indices)"
   ]
  },
  {
   "cell_type": "code",
   "execution_count": 27,
   "id": "ea328c8d-4166-4caa-88ff-ecb0a4253273",
   "metadata": {},
   "outputs": [
    {
     "data": {
      "text/plain": [
       "[Accuracy(score=236, total=396, accuracy=0.5959595959595959),\n",
       " Accuracy(score=217, total=394, accuracy=0.550761421319797),\n",
       " Accuracy(score=134, total=298, accuracy=0.44966442953020136),\n",
       " Accuracy(score=85, total=208, accuracy=0.40865384615384615),\n",
       " Accuracy(score=45, total=98, accuracy=0.45918367346938777),\n",
       " Accuracy(score=20, total=41, accuracy=0.4878048780487805),\n",
       " Accuracy(score=5, total=11, accuracy=0.45454545454545453),\n",
       " Accuracy(score=1, total=3, accuracy=0.3333333333333333)]"
      ]
     },
     "execution_count": 27,
     "metadata": {},
     "output_type": "execute_result"
    }
   ],
   "source": [
    "t_1.answer_accuracy_by_question_number(computed_indices)"
   ]
  },
  {
   "cell_type": "code",
   "execution_count": 29,
   "id": "cfeb8877-f9cf-47c5-a980-f530cf1eabe9",
   "metadata": {},
   "outputs": [
    {
     "data": {
      "text/plain": [
       "[Accuracy(score=253, total=396, accuracy=0.6388888888888888),\n",
       " Accuracy(score=249, total=394, accuracy=0.631979695431472),\n",
       " Accuracy(score=138, total=298, accuracy=0.46308724832214765),\n",
       " Accuracy(score=104, total=208, accuracy=0.5),\n",
       " Accuracy(score=45, total=98, accuracy=0.45918367346938777),\n",
       " Accuracy(score=15, total=41, accuracy=0.36585365853658536),\n",
       " Accuracy(score=5, total=11, accuracy=0.45454545454545453),\n",
       " Accuracy(score=2, total=3, accuracy=0.6666666666666666)]"
      ]
     },
     "execution_count": 29,
     "metadata": {},
     "output_type": "execute_result"
    }
   ],
   "source": [
    "t_2.answer_accuracy_by_question_number(computed_indices)"
   ]
  },
  {
   "cell_type": "code",
   "execution_count": 31,
   "id": "3ed0e5fd-b562-4aff-baa6-9cc13a16841a",
   "metadata": {},
   "outputs": [
    {
     "data": {
      "text/plain": [
       "{'retrieval': Accuracy(score=338, total=525, accuracy=0.6438095238095238),\n",
       " 'program': Accuracy(score=405, total=924, accuracy=0.4383116883116883)}"
      ]
     },
     "execution_count": 31,
     "metadata": {},
     "output_type": "execute_result"
    }
   ],
   "source": [
    "t_1.answer_accuracy_by_question_type(computed_indices)"
   ]
  },
  {
   "cell_type": "code",
   "execution_count": 33,
   "id": "db2f910a-152e-4465-9686-11cd95b9c1fa",
   "metadata": {},
   "outputs": [
    {
     "data": {
      "text/plain": [
       "{'retrieval': Accuracy(score=360, total=525, accuracy=0.6857142857142857),\n",
       " 'program': Accuracy(score=451, total=924, accuracy=0.4880952380952381)}"
      ]
     },
     "execution_count": 33,
     "metadata": {},
     "output_type": "execute_result"
    }
   ],
   "source": [
    "t_2.answer_accuracy_by_question_type(computed_indices)"
   ]
  },
  {
   "cell_type": "code",
   "execution_count": 35,
   "id": "f2d5d24f-8ab6-4848-8b54-7312698b4eb9",
   "metadata": {},
   "outputs": [
    {
     "data": {
      "text/plain": [
       "Accuracy(score=547, total=924, accuracy=0.591991341991342)"
      ]
     },
     "execution_count": 35,
     "metadata": {},
     "output_type": "execute_result"
    }
   ],
   "source": [
    "t_1.program_accuracy(computed_indices)"
   ]
  },
  {
   "cell_type": "code",
   "execution_count": 37,
   "id": "8e16de2f-0a1b-40f8-b850-043dce557b74",
   "metadata": {},
   "outputs": [
    {
     "data": {
      "text/plain": [
       "Accuracy(score=599, total=924, accuracy=0.6482683982683982)"
      ]
     },
     "execution_count": 37,
     "metadata": {},
     "output_type": "execute_result"
    }
   ],
   "source": [
    "t_2.program_accuracy(computed_indices)"
   ]
  },
  {
   "cell_type": "code",
   "execution_count": 39,
   "id": "9b84770b-f84a-4b54-b62c-6f9c8a6e288e",
   "metadata": {},
   "outputs": [
    {
     "data": {
      "text/plain": [
       "{'add': Accuracy(score=101, total=140, accuracy=0.7214285714285714),\n",
       " 'subtract': Accuracy(score=150, total=306, accuracy=0.49019607843137253),\n",
       " 'multiply': Accuracy(score=27, total=62, accuracy=0.43548387096774194),\n",
       " 'divide': Accuracy(score=268, total=413, accuracy=0.648910411622276),\n",
       " 'exp': Accuracy(score=0, total=0, accuracy=0),\n",
       " 'greater': Accuracy(score=1, total=3, accuracy=0.3333333333333333)}"
      ]
     },
     "execution_count": 39,
     "metadata": {},
     "output_type": "execute_result"
    }
   ],
   "source": [
    "t_1.program_accuracy_by_operation(computed_indices)"
   ]
  },
  {
   "cell_type": "code",
   "execution_count": 41,
   "id": "96c917ab-858c-4106-9c8f-a583c47a794f",
   "metadata": {},
   "outputs": [
    {
     "data": {
      "text/plain": [
       "{'add': Accuracy(score=103, total=140, accuracy=0.7357142857142858),\n",
       " 'subtract': Accuracy(score=169, total=306, accuracy=0.5522875816993464),\n",
       " 'multiply': Accuracy(score=31, total=62, accuracy=0.5),\n",
       " 'divide': Accuracy(score=295, total=413, accuracy=0.7142857142857143),\n",
       " 'exp': Accuracy(score=0, total=0, accuracy=0),\n",
       " 'greater': Accuracy(score=1, total=3, accuracy=0.3333333333333333)}"
      ]
     },
     "execution_count": 41,
     "metadata": {},
     "output_type": "execute_result"
    }
   ],
   "source": [
    "t_2.program_accuracy_by_operation(computed_indices)"
   ]
  },
  {
   "cell_type": "code",
   "execution_count": 43,
   "id": "ed472e92-c490-4e5f-885f-765f5ecbeef6",
   "metadata": {},
   "outputs": [
    {
     "data": {
      "text/plain": [
       "[Accuracy(score=102, total=211, accuracy=0.4834123222748815),\n",
       " Accuracy(score=82, total=155, accuracy=0.5290322580645161),\n",
       " Accuracy(score=182, total=279, accuracy=0.6523297491039427),\n",
       " Accuracy(score=90, total=149, accuracy=0.6040268456375839),\n",
       " Accuracy(score=60, total=80, accuracy=0.75),\n",
       " Accuracy(score=24, total=38, accuracy=0.631578947368421),\n",
       " Accuracy(score=5, total=9, accuracy=0.5555555555555556),\n",
       " Accuracy(score=2, total=3, accuracy=0.6666666666666666)]"
      ]
     },
     "execution_count": 43,
     "metadata": {},
     "output_type": "execute_result"
    }
   ],
   "source": [
    "t_1.program_accuracy_by_question_number(computed_indices)"
   ]
  },
  {
   "cell_type": "code",
   "execution_count": 45,
   "id": "bfb039c1-98d7-42f6-acb8-21ca47920beb",
   "metadata": {},
   "outputs": [
    {
     "data": {
      "text/plain": [
       "[Accuracy(score=117, total=211, accuracy=0.5545023696682464),\n",
       " Accuracy(score=89, total=155, accuracy=0.5741935483870968),\n",
       " Accuracy(score=196, total=279, accuracy=0.7025089605734767),\n",
       " Accuracy(score=103, total=149, accuracy=0.6912751677852349),\n",
       " Accuracy(score=59, total=80, accuracy=0.7375),\n",
       " Accuracy(score=26, total=38, accuracy=0.6842105263157895),\n",
       " Accuracy(score=7, total=9, accuracy=0.7777777777777778),\n",
       " Accuracy(score=2, total=3, accuracy=0.6666666666666666)]"
      ]
     },
     "execution_count": 45,
     "metadata": {},
     "output_type": "execute_result"
    }
   ],
   "source": [
    "t_2.program_accuracy_by_question_number(computed_indices)"
   ]
  }
 ],
 "metadata": {
  "kernelspec": {
   "display_name": "ConvFinQA",
   "language": "python",
   "name": "convfinqa"
  },
  "language_info": {
   "codemirror_mode": {
    "name": "ipython",
    "version": 3
   },
   "file_extension": ".py",
   "mimetype": "text/x-python",
   "name": "python",
   "nbconvert_exporter": "python",
   "pygments_lexer": "ipython3",
   "version": "3.12.4"
  }
 },
 "nbformat": 4,
 "nbformat_minor": 5
}
