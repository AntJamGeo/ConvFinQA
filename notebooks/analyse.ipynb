{
 "cells": [
  {
   "cell_type": "code",
   "execution_count": 1,
   "id": "40efb7d3-c85e-4ff0-b302-1303f7ea5b9e",
   "metadata": {},
   "outputs": [],
   "source": [
    "import sys\n",
    "import os\n",
    "\n",
    "src_path = \"../src\"\n",
    "sys.path.insert(0, src_path)\n",
    "\n",
    "hf_token = os.environ[\"HUGGINGFACE_TOKEN\"]"
   ]
  },
  {
   "cell_type": "code",
   "execution_count": 2,
   "id": "a0e8f983-fcf6-47c7-a94e-2c70baba1591",
   "metadata": {},
   "outputs": [],
   "source": [
    "from data import load_data\n",
    "from client import Client\n",
    "from tester import Tester"
   ]
  },
  {
   "cell_type": "code",
   "execution_count": 33,
   "id": "fae755e2-1563-4b20-8240-8a8df17c250e",
   "metadata": {},
   "outputs": [],
   "source": [
    "import pickle\n",
    "with open(\"../data/runs/run1.pickle\", \"rb\") as conversation_file:\n",
    "    conversations1 = pickle.load(conversation_file)\n",
    "with open(\"../data/runs/run2.pickle\", \"rb\") as conversation_file:\n",
    "    conversations2 = pickle.load(conversation_file)"
   ]
  },
  {
   "cell_type": "code",
   "execution_count": 39,
   "id": "6c3818fc-7136-406d-bb65-4de139290ff2",
   "metadata": {},
   "outputs": [],
   "source": [
    "data = [load_data(f\"../data/processed/train{i}.json\") for i in range(1, 4)]\n",
    "entries = data[0] | data[1]\n",
    "c = Client(\n",
    "    \"mistralai/Mistral-Nemo-Instruct-2407\",\n",
    "    token=hf_token,\n",
    ")\n",
    "t_1 = Tester(c, entries)\n",
    "t_2 = Tester(c, entries)\n",
    "indices = sorted(list(entries.keys()))"
   ]
  },
  {
   "cell_type": "code",
   "execution_count": 43,
   "id": "f7c43cac-d9b4-4d32-80c1-ef57e17bd546",
   "metadata": {},
   "outputs": [],
   "source": [
    "t_1.conversations = conversations1\n",
    "t_2.conversations = conversations2"
   ]
  },
  {
   "cell_type": "code",
   "execution_count": 45,
   "id": "52d3007b-1130-441c-99c6-d1959e0474f4",
   "metadata": {},
   "outputs": [],
   "source": [
    "computed_indices = indices[:84]"
   ]
  },
  {
   "cell_type": "code",
   "execution_count": 47,
   "id": "09f59003-71c7-4f6b-b425-bfd0aba1a65c",
   "metadata": {},
   "outputs": [
    {
     "data": {
      "text/plain": [
       "Accuracy(score=159, total=297, accuracy=0.5353535353535354)"
      ]
     },
     "execution_count": 47,
     "metadata": {},
     "output_type": "execute_result"
    }
   ],
   "source": [
    "t_1.answer_accuracy(computed_indices)"
   ]
  },
  {
   "cell_type": "code",
   "execution_count": 49,
   "id": "813df6e0-fad7-4862-9e1d-16a078f0abd4",
   "metadata": {},
   "outputs": [
    {
     "data": {
      "text/plain": [
       "Accuracy(score=163, total=297, accuracy=0.5488215488215489)"
      ]
     },
     "execution_count": 49,
     "metadata": {},
     "output_type": "execute_result"
    }
   ],
   "source": [
    "t_2.answer_accuracy(computed_indices)"
   ]
  },
  {
   "cell_type": "code",
   "execution_count": 51,
   "id": "e74f33fc-1411-412b-a457-fefdd44826ea",
   "metadata": {},
   "outputs": [
    {
     "data": {
      "text/plain": [
       "{'add': Accuracy(score=15, total=29, accuracy=0.5172413793103449),\n",
       " 'subtract': Accuracy(score=36, total=70, accuracy=0.5142857142857142),\n",
       " 'multiply': Accuracy(score=4, total=8, accuracy=0.5),\n",
       " 'divide': Accuracy(score=41, total=88, accuracy=0.4659090909090909),\n",
       " 'exp': Accuracy(score=0, total=0, accuracy=0),\n",
       " 'greater': Accuracy(score=0, total=0, accuracy=0)}"
      ]
     },
     "execution_count": 51,
     "metadata": {},
     "output_type": "execute_result"
    }
   ],
   "source": [
    "t_1.answer_accuracy_by_operation(computed_indices)"
   ]
  },
  {
   "cell_type": "code",
   "execution_count": 53,
   "id": "6681fde4-099b-4e7b-a272-7007d82a9ae9",
   "metadata": {},
   "outputs": [
    {
     "data": {
      "text/plain": [
       "{'add': Accuracy(score=15, total=29, accuracy=0.5172413793103449),\n",
       " 'subtract': Accuracy(score=34, total=70, accuracy=0.4857142857142857),\n",
       " 'multiply': Accuracy(score=4, total=8, accuracy=0.5),\n",
       " 'divide': Accuracy(score=43, total=88, accuracy=0.48863636363636365),\n",
       " 'exp': Accuracy(score=0, total=0, accuracy=0),\n",
       " 'greater': Accuracy(score=0, total=0, accuracy=0)}"
      ]
     },
     "execution_count": 53,
     "metadata": {},
     "output_type": "execute_result"
    }
   ],
   "source": [
    "t_2.answer_accuracy_by_operation(computed_indices)"
   ]
  },
  {
   "cell_type": "code",
   "execution_count": 55,
   "id": "ea328c8d-4166-4caa-88ff-ecb0a4253273",
   "metadata": {},
   "outputs": [
    {
     "data": {
      "text/plain": [
       "[Accuracy(score=52, total=84, accuracy=0.6190476190476191),\n",
       " Accuracy(score=46, total=83, accuracy=0.5542168674698795),\n",
       " Accuracy(score=25, total=64, accuracy=0.390625),\n",
       " Accuracy(score=19, total=40, accuracy=0.475),\n",
       " Accuracy(score=12, total=18, accuracy=0.6666666666666666),\n",
       " Accuracy(score=3, total=5, accuracy=0.6),\n",
       " Accuracy(score=2, total=3, accuracy=0.6666666666666666)]"
      ]
     },
     "execution_count": 55,
     "metadata": {},
     "output_type": "execute_result"
    }
   ],
   "source": [
    "t_1.answer_accuracy_by_question_number(computed_indices)"
   ]
  },
  {
   "cell_type": "code",
   "execution_count": 57,
   "id": "cfeb8877-f9cf-47c5-a980-f530cf1eabe9",
   "metadata": {},
   "outputs": [
    {
     "data": {
      "text/plain": [
       "[Accuracy(score=52, total=84, accuracy=0.6190476190476191),\n",
       " Accuracy(score=50, total=83, accuracy=0.6024096385542169),\n",
       " Accuracy(score=26, total=64, accuracy=0.40625),\n",
       " Accuracy(score=22, total=40, accuracy=0.55),\n",
       " Accuracy(score=10, total=18, accuracy=0.5555555555555556),\n",
       " Accuracy(score=2, total=5, accuracy=0.4),\n",
       " Accuracy(score=1, total=3, accuracy=0.3333333333333333)]"
      ]
     },
     "execution_count": 57,
     "metadata": {},
     "output_type": "execute_result"
    }
   ],
   "source": [
    "t_2.answer_accuracy_by_question_number(computed_indices)"
   ]
  },
  {
   "cell_type": "code",
   "execution_count": 59,
   "id": "3ed0e5fd-b562-4aff-baa6-9cc13a16841a",
   "metadata": {},
   "outputs": [
    {
     "data": {
      "text/plain": [
       "{'retrieval': Accuracy(score=63, total=102, accuracy=0.6176470588235294),\n",
       " 'program': Accuracy(score=96, total=195, accuracy=0.49230769230769234)}"
      ]
     },
     "execution_count": 59,
     "metadata": {},
     "output_type": "execute_result"
    }
   ],
   "source": [
    "t_1.answer_accuracy_by_question_type(computed_indices)"
   ]
  },
  {
   "cell_type": "code",
   "execution_count": 61,
   "id": "db2f910a-152e-4465-9686-11cd95b9c1fa",
   "metadata": {},
   "outputs": [
    {
     "data": {
      "text/plain": [
       "{'retrieval': Accuracy(score=67, total=102, accuracy=0.6568627450980392),\n",
       " 'program': Accuracy(score=96, total=195, accuracy=0.49230769230769234)}"
      ]
     },
     "execution_count": 61,
     "metadata": {},
     "output_type": "execute_result"
    }
   ],
   "source": [
    "t_2.answer_accuracy_by_question_type(computed_indices)"
   ]
  },
  {
   "cell_type": "code",
   "execution_count": 63,
   "id": "f2d5d24f-8ab6-4848-8b54-7312698b4eb9",
   "metadata": {},
   "outputs": [
    {
     "data": {
      "text/plain": [
       "Accuracy(score=125, total=195, accuracy=0.6410256410256411)"
      ]
     },
     "execution_count": 63,
     "metadata": {},
     "output_type": "execute_result"
    }
   ],
   "source": [
    "t_1.program_accuracy(computed_indices)"
   ]
  },
  {
   "cell_type": "code",
   "execution_count": 65,
   "id": "8e16de2f-0a1b-40f8-b850-043dce557b74",
   "metadata": {},
   "outputs": [
    {
     "data": {
      "text/plain": [
       "Accuracy(score=122, total=195, accuracy=0.6256410256410256)"
      ]
     },
     "execution_count": 65,
     "metadata": {},
     "output_type": "execute_result"
    }
   ],
   "source": [
    "t_2.program_accuracy(computed_indices)"
   ]
  },
  {
   "cell_type": "code",
   "execution_count": 67,
   "id": "9b84770b-f84a-4b54-b62c-6f9c8a6e288e",
   "metadata": {},
   "outputs": [
    {
     "data": {
      "text/plain": [
       "{'add': Accuracy(score=20, total=29, accuracy=0.6896551724137931),\n",
       " 'subtract': Accuracy(score=37, total=70, accuracy=0.5285714285714286),\n",
       " 'multiply': Accuracy(score=2, total=8, accuracy=0.25),\n",
       " 'divide': Accuracy(score=66, total=88, accuracy=0.75),\n",
       " 'exp': Accuracy(score=0, total=0, accuracy=0),\n",
       " 'greater': Accuracy(score=0, total=0, accuracy=0)}"
      ]
     },
     "execution_count": 67,
     "metadata": {},
     "output_type": "execute_result"
    }
   ],
   "source": [
    "t_1.program_accuracy_by_operation(computed_indices)"
   ]
  },
  {
   "cell_type": "code",
   "execution_count": 69,
   "id": "96c917ab-858c-4106-9c8f-a583c47a794f",
   "metadata": {},
   "outputs": [
    {
     "data": {
      "text/plain": [
       "{'add': Accuracy(score=18, total=29, accuracy=0.6206896551724138),\n",
       " 'subtract': Accuracy(score=37, total=70, accuracy=0.5285714285714286),\n",
       " 'multiply': Accuracy(score=3, total=8, accuracy=0.375),\n",
       " 'divide': Accuracy(score=64, total=88, accuracy=0.7272727272727273),\n",
       " 'exp': Accuracy(score=0, total=0, accuracy=0),\n",
       " 'greater': Accuracy(score=0, total=0, accuracy=0)}"
      ]
     },
     "execution_count": 69,
     "metadata": {},
     "output_type": "execute_result"
    }
   ],
   "source": [
    "t_2.program_accuracy_by_operation(computed_indices)"
   ]
  },
  {
   "cell_type": "code",
   "execution_count": 71,
   "id": "ed472e92-c490-4e5f-885f-765f5ecbeef6",
   "metadata": {},
   "outputs": [
    {
     "data": {
      "text/plain": [
       "[Accuracy(score=25, total=48, accuracy=0.5208333333333334),\n",
       " Accuracy(score=18, total=31, accuracy=0.5806451612903226),\n",
       " Accuracy(score=41, total=61, accuracy=0.6721311475409836),\n",
       " Accuracy(score=21, total=31, accuracy=0.6774193548387096),\n",
       " Accuracy(score=16, total=16, accuracy=1.0),\n",
       " Accuracy(score=3, total=5, accuracy=0.6),\n",
       " Accuracy(score=1, total=3, accuracy=0.3333333333333333)]"
      ]
     },
     "execution_count": 71,
     "metadata": {},
     "output_type": "execute_result"
    }
   ],
   "source": [
    "t_1.program_accuracy_by_question_number(computed_indices)"
   ]
  },
  {
   "cell_type": "code",
   "execution_count": 73,
   "id": "bfb039c1-98d7-42f6-acb8-21ca47920beb",
   "metadata": {},
   "outputs": [
    {
     "data": {
      "text/plain": [
       "[Accuracy(score=25, total=48, accuracy=0.5208333333333334),\n",
       " Accuracy(score=16, total=31, accuracy=0.5161290322580645),\n",
       " Accuracy(score=41, total=61, accuracy=0.6721311475409836),\n",
       " Accuracy(score=22, total=31, accuracy=0.7096774193548387),\n",
       " Accuracy(score=13, total=16, accuracy=0.8125),\n",
       " Accuracy(score=3, total=5, accuracy=0.6),\n",
       " Accuracy(score=2, total=3, accuracy=0.6666666666666666)]"
      ]
     },
     "execution_count": 73,
     "metadata": {},
     "output_type": "execute_result"
    }
   ],
   "source": [
    "t_2.program_accuracy_by_question_number(computed_indices)"
   ]
  }
 ],
 "metadata": {
  "kernelspec": {
   "display_name": "ConvFinQA",
   "language": "python",
   "name": "convfinqa"
  },
  "language_info": {
   "codemirror_mode": {
    "name": "ipython",
    "version": 3
   },
   "file_extension": ".py",
   "mimetype": "text/x-python",
   "name": "python",
   "nbconvert_exporter": "python",
   "pygments_lexer": "ipython3",
   "version": "3.12.4"
  }
 },
 "nbformat": 4,
 "nbformat_minor": 5
}
