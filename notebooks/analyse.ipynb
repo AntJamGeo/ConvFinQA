{
 "cells": [
  {
   "cell_type": "code",
   "execution_count": 1,
   "id": "40efb7d3-c85e-4ff0-b302-1303f7ea5b9e",
   "metadata": {},
   "outputs": [],
   "source": [
    "import sys\n",
    "import os\n",
    "\n",
    "src_path = \"../src\"\n",
    "sys.path.insert(0, src_path)\n",
    "\n",
    "hf_token = os.environ[\"HUGGINGFACE_TOKEN\"]"
   ]
  },
  {
   "cell_type": "code",
   "execution_count": 3,
   "id": "a0e8f983-fcf6-47c7-a94e-2c70baba1591",
   "metadata": {},
   "outputs": [],
   "source": [
    "from data import load_data\n",
    "from client import Client\n",
    "from tester import Tester"
   ]
  },
  {
   "cell_type": "code",
   "execution_count": 5,
   "id": "fae755e2-1563-4b20-8240-8a8df17c250e",
   "metadata": {},
   "outputs": [],
   "source": [
    "import pickle\n",
    "with open(\"../data/runs/run1.pickle\", \"rb\") as conversation_file:\n",
    "    conversations1 = pickle.load(conversation_file)\n",
    "with open(\"../data/runs/run2.pickle\", \"rb\") as conversation_file:\n",
    "    conversations2 = pickle.load(conversation_file)"
   ]
  },
  {
   "cell_type": "code",
   "execution_count": 7,
   "id": "6c3818fc-7136-406d-bb65-4de139290ff2",
   "metadata": {},
   "outputs": [],
   "source": [
    "data = [load_data(f\"../data/processed/train{i}.json\") for i in range(1, 4)]\n",
    "entries = data[0] | data[1]\n",
    "c = Client(\n",
    "    \"mistralai/Mistral-Nemo-Instruct-2407\",\n",
    "    token=hf_token,\n",
    ")\n",
    "t_1 = Tester(c, entries)\n",
    "t_2 = Tester(c, entries)\n",
    "indices = sorted(list(entries.keys()))"
   ]
  },
  {
   "cell_type": "code",
   "execution_count": 9,
   "id": "f7c43cac-d9b4-4d32-80c1-ef57e17bd546",
   "metadata": {},
   "outputs": [],
   "source": [
    "t_1.conversations = conversations1\n",
    "t_2.conversations = conversations2"
   ]
  },
  {
   "cell_type": "code",
   "execution_count": 11,
   "id": "52d3007b-1130-441c-99c6-d1959e0474f4",
   "metadata": {},
   "outputs": [],
   "source": [
    "computed_indices = indices[:166]"
   ]
  },
  {
   "cell_type": "code",
   "execution_count": 13,
   "id": "09f59003-71c7-4f6b-b425-bfd0aba1a65c",
   "metadata": {},
   "outputs": [
    {
     "data": {
      "text/plain": [
       "Accuracy(score=291, total=594, accuracy=0.4898989898989899)"
      ]
     },
     "execution_count": 13,
     "metadata": {},
     "output_type": "execute_result"
    }
   ],
   "source": [
    "t_1.answer_accuracy(computed_indices)"
   ]
  },
  {
   "cell_type": "code",
   "execution_count": 15,
   "id": "813df6e0-fad7-4862-9e1d-16a078f0abd4",
   "metadata": {},
   "outputs": [
    {
     "data": {
      "text/plain": [
       "Accuracy(score=317, total=594, accuracy=0.5336700336700336)"
      ]
     },
     "execution_count": 15,
     "metadata": {},
     "output_type": "execute_result"
    }
   ],
   "source": [
    "t_2.answer_accuracy(computed_indices)"
   ]
  },
  {
   "cell_type": "code",
   "execution_count": 17,
   "id": "e74f33fc-1411-412b-a457-fefdd44826ea",
   "metadata": {},
   "outputs": [
    {
     "data": {
      "text/plain": [
       "{'add': Accuracy(score=32, total=63, accuracy=0.5079365079365079),\n",
       " 'subtract': Accuracy(score=51, total=131, accuracy=0.3893129770992366),\n",
       " 'multiply': Accuracy(score=8, total=25, accuracy=0.32),\n",
       " 'divide': Accuracy(score=65, total=168, accuracy=0.3869047619047619),\n",
       " 'exp': Accuracy(score=0, total=0, accuracy=0),\n",
       " 'greater': Accuracy(score=1, total=1, accuracy=1.0)}"
      ]
     },
     "execution_count": 17,
     "metadata": {},
     "output_type": "execute_result"
    }
   ],
   "source": [
    "t_1.answer_accuracy_by_operation(computed_indices)"
   ]
  },
  {
   "cell_type": "code",
   "execution_count": 19,
   "id": "6681fde4-099b-4e7b-a272-7007d82a9ae9",
   "metadata": {},
   "outputs": [
    {
     "data": {
      "text/plain": [
       "{'add': Accuracy(score=29, total=63, accuracy=0.4603174603174603),\n",
       " 'subtract': Accuracy(score=57, total=131, accuracy=0.4351145038167939),\n",
       " 'multiply': Accuracy(score=10, total=25, accuracy=0.4),\n",
       " 'divide': Accuracy(score=78, total=168, accuracy=0.4642857142857143),\n",
       " 'exp': Accuracy(score=0, total=0, accuracy=0),\n",
       " 'greater': Accuracy(score=1, total=1, accuracy=1.0)}"
      ]
     },
     "execution_count": 19,
     "metadata": {},
     "output_type": "execute_result"
    }
   ],
   "source": [
    "t_2.answer_accuracy_by_operation(computed_indices)"
   ]
  },
  {
   "cell_type": "code",
   "execution_count": 21,
   "id": "ea328c8d-4166-4caa-88ff-ecb0a4253273",
   "metadata": {},
   "outputs": [
    {
     "data": {
      "text/plain": [
       "[Accuracy(score=95, total=166, accuracy=0.572289156626506),\n",
       " Accuracy(score=85, total=164, accuracy=0.5182926829268293),\n",
       " Accuracy(score=48, total=121, accuracy=0.39669421487603307),\n",
       " Accuracy(score=36, total=83, accuracy=0.43373493975903615),\n",
       " Accuracy(score=19, total=39, accuracy=0.48717948717948717),\n",
       " Accuracy(score=5, total=14, accuracy=0.35714285714285715),\n",
       " Accuracy(score=3, total=5, accuracy=0.6),\n",
       " Accuracy(score=0, total=2, accuracy=0.0)]"
      ]
     },
     "execution_count": 21,
     "metadata": {},
     "output_type": "execute_result"
    }
   ],
   "source": [
    "t_1.answer_accuracy_by_question_number(computed_indices)"
   ]
  },
  {
   "cell_type": "code",
   "execution_count": 23,
   "id": "cfeb8877-f9cf-47c5-a980-f530cf1eabe9",
   "metadata": {},
   "outputs": [
    {
     "data": {
      "text/plain": [
       "[Accuracy(score=102, total=166, accuracy=0.6144578313253012),\n",
       " Accuracy(score=96, total=164, accuracy=0.5853658536585366),\n",
       " Accuracy(score=50, total=121, accuracy=0.4132231404958678),\n",
       " Accuracy(score=42, total=83, accuracy=0.5060240963855421),\n",
       " Accuracy(score=17, total=39, accuracy=0.4358974358974359),\n",
       " Accuracy(score=6, total=14, accuracy=0.42857142857142855),\n",
       " Accuracy(score=3, total=5, accuracy=0.6),\n",
       " Accuracy(score=1, total=2, accuracy=0.5)]"
      ]
     },
     "execution_count": 23,
     "metadata": {},
     "output_type": "execute_result"
    }
   ],
   "source": [
    "t_2.answer_accuracy_by_question_number(computed_indices)"
   ]
  },
  {
   "cell_type": "code",
   "execution_count": 25,
   "id": "3ed0e5fd-b562-4aff-baa6-9cc13a16841a",
   "metadata": {},
   "outputs": [
    {
     "data": {
      "text/plain": [
       "{'retrieval': Accuracy(score=134, total=206, accuracy=0.6504854368932039),\n",
       " 'program': Accuracy(score=157, total=388, accuracy=0.40463917525773196)}"
      ]
     },
     "execution_count": 25,
     "metadata": {},
     "output_type": "execute_result"
    }
   ],
   "source": [
    "t_1.answer_accuracy_by_question_type(computed_indices)"
   ]
  },
  {
   "cell_type": "code",
   "execution_count": 27,
   "id": "db2f910a-152e-4465-9686-11cd95b9c1fa",
   "metadata": {},
   "outputs": [
    {
     "data": {
      "text/plain": [
       "{'retrieval': Accuracy(score=142, total=206, accuracy=0.6893203883495146),\n",
       " 'program': Accuracy(score=175, total=388, accuracy=0.45103092783505155)}"
      ]
     },
     "execution_count": 27,
     "metadata": {},
     "output_type": "execute_result"
    }
   ],
   "source": [
    "t_2.answer_accuracy_by_question_type(computed_indices)"
   ]
  },
  {
   "cell_type": "code",
   "execution_count": 29,
   "id": "f2d5d24f-8ab6-4848-8b54-7312698b4eb9",
   "metadata": {},
   "outputs": [
    {
     "data": {
      "text/plain": [
       "Accuracy(score=220, total=388, accuracy=0.5670103092783505)"
      ]
     },
     "execution_count": 29,
     "metadata": {},
     "output_type": "execute_result"
    }
   ],
   "source": [
    "t_1.program_accuracy(computed_indices)"
   ]
  },
  {
   "cell_type": "code",
   "execution_count": 31,
   "id": "8e16de2f-0a1b-40f8-b850-043dce557b74",
   "metadata": {},
   "outputs": [
    {
     "data": {
      "text/plain": [
       "Accuracy(score=234, total=388, accuracy=0.6030927835051546)"
      ]
     },
     "execution_count": 31,
     "metadata": {},
     "output_type": "execute_result"
    }
   ],
   "source": [
    "t_2.program_accuracy(computed_indices)"
   ]
  },
  {
   "cell_type": "code",
   "execution_count": 33,
   "id": "9b84770b-f84a-4b54-b62c-6f9c8a6e288e",
   "metadata": {},
   "outputs": [
    {
     "data": {
      "text/plain": [
       "{'add': Accuracy(score=45, total=63, accuracy=0.7142857142857143),\n",
       " 'subtract': Accuracy(score=56, total=131, accuracy=0.42748091603053434),\n",
       " 'multiply': Accuracy(score=7, total=25, accuracy=0.28),\n",
       " 'divide': Accuracy(score=112, total=168, accuracy=0.6666666666666666),\n",
       " 'exp': Accuracy(score=0, total=0, accuracy=0),\n",
       " 'greater': Accuracy(score=0, total=1, accuracy=0.0)}"
      ]
     },
     "execution_count": 33,
     "metadata": {},
     "output_type": "execute_result"
    }
   ],
   "source": [
    "t_1.program_accuracy_by_operation(computed_indices)"
   ]
  },
  {
   "cell_type": "code",
   "execution_count": 35,
   "id": "96c917ab-858c-4106-9c8f-a583c47a794f",
   "metadata": {},
   "outputs": [
    {
     "data": {
      "text/plain": [
       "{'add': Accuracy(score=41, total=63, accuracy=0.6507936507936508),\n",
       " 'subtract': Accuracy(score=64, total=131, accuracy=0.48854961832061067),\n",
       " 'multiply': Accuracy(score=10, total=25, accuracy=0.4),\n",
       " 'divide': Accuracy(score=119, total=168, accuracy=0.7083333333333334),\n",
       " 'exp': Accuracy(score=0, total=0, accuracy=0),\n",
       " 'greater': Accuracy(score=0, total=1, accuracy=0.0)}"
      ]
     },
     "execution_count": 35,
     "metadata": {},
     "output_type": "execute_result"
    }
   ],
   "source": [
    "t_2.program_accuracy_by_operation(computed_indices)"
   ]
  },
  {
   "cell_type": "code",
   "execution_count": 37,
   "id": "ed472e92-c490-4e5f-885f-765f5ecbeef6",
   "metadata": {},
   "outputs": [
    {
     "data": {
      "text/plain": [
       "[Accuracy(score=41, total=93, accuracy=0.44086021505376344),\n",
       " Accuracy(score=33, total=64, accuracy=0.515625),\n",
       " Accuracy(score=73, total=114, accuracy=0.6403508771929824),\n",
       " Accuracy(score=39, total=64, accuracy=0.609375),\n",
       " Accuracy(score=26, total=34, accuracy=0.7647058823529411),\n",
       " Accuracy(score=5, total=13, accuracy=0.38461538461538464),\n",
       " Accuracy(score=2, total=4, accuracy=0.5),\n",
       " Accuracy(score=1, total=2, accuracy=0.5)]"
      ]
     },
     "execution_count": 37,
     "metadata": {},
     "output_type": "execute_result"
    }
   ],
   "source": [
    "t_1.program_accuracy_by_question_number(computed_indices)"
   ]
  },
  {
   "cell_type": "code",
   "execution_count": 39,
   "id": "bfb039c1-98d7-42f6-acb8-21ca47920beb",
   "metadata": {},
   "outputs": [
    {
     "data": {
      "text/plain": [
       "[Accuracy(score=46, total=93, accuracy=0.4946236559139785),\n",
       " Accuracy(score=31, total=64, accuracy=0.484375),\n",
       " Accuracy(score=77, total=114, accuracy=0.6754385964912281),\n",
       " Accuracy(score=43, total=64, accuracy=0.671875),\n",
       " Accuracy(score=25, total=34, accuracy=0.7352941176470589),\n",
       " Accuracy(score=8, total=13, accuracy=0.6153846153846154),\n",
       " Accuracy(score=3, total=4, accuracy=0.75),\n",
       " Accuracy(score=1, total=2, accuracy=0.5)]"
      ]
     },
     "execution_count": 39,
     "metadata": {},
     "output_type": "execute_result"
    }
   ],
   "source": [
    "t_2.program_accuracy_by_question_number(computed_indices)"
   ]
  }
 ],
 "metadata": {
  "kernelspec": {
   "display_name": "ConvFinQA",
   "language": "python",
   "name": "convfinqa"
  },
  "language_info": {
   "codemirror_mode": {
    "name": "ipython",
    "version": 3
   },
   "file_extension": ".py",
   "mimetype": "text/x-python",
   "name": "python",
   "nbconvert_exporter": "python",
   "pygments_lexer": "ipython3",
   "version": "3.12.4"
  }
 },
 "nbformat": 4,
 "nbformat_minor": 5
}
