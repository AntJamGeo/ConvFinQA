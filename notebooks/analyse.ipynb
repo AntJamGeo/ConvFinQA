{
 "cells": [
  {
   "cell_type": "code",
   "execution_count": 1,
   "id": "40efb7d3-c85e-4ff0-b302-1303f7ea5b9e",
   "metadata": {},
   "outputs": [],
   "source": [
    "import sys\n",
    "import os\n",
    "\n",
    "src_path = \"../src\"\n",
    "sys.path.insert(0, src_path)\n",
    "\n",
    "hf_token = os.environ[\"HUGGINGFACE_TOKEN\"]"
   ]
  },
  {
   "cell_type": "code",
   "execution_count": 3,
   "id": "a0e8f983-fcf6-47c7-a94e-2c70baba1591",
   "metadata": {},
   "outputs": [],
   "source": [
    "from data import load_data\n",
    "from client import Client\n",
    "from tester import Tester"
   ]
  },
  {
   "cell_type": "code",
   "execution_count": 4,
   "id": "fae755e2-1563-4b20-8240-8a8df17c250e",
   "metadata": {},
   "outputs": [],
   "source": [
    "import pickle\n",
    "with open(\"../data/runs/run1.pickle\", \"rb\") as conversation_file:\n",
    "    conversations1 = pickle.load(conversation_file)\n",
    "with open(\"../data/runs/run2.pickle\", \"rb\") as conversation_file:\n",
    "    conversations2 = pickle.load(conversation_file)"
   ]
  },
  {
   "cell_type": "code",
   "execution_count": 5,
   "id": "6c3818fc-7136-406d-bb65-4de139290ff2",
   "metadata": {},
   "outputs": [],
   "source": [
    "data = [load_data(f\"../data/processed/train{i}.json\") for i in range(1, 4)]\n",
    "entries = data[0] | data[1]\n",
    "c = Client(\n",
    "    \"mistralai/Mistral-Nemo-Instruct-2407\",\n",
    "    token=hf_token,\n",
    ")\n",
    "t_1 = Tester(c, entries)\n",
    "t_2 = Tester(c, entries)\n",
    "indices = sorted(list(entries.keys()))"
   ]
  },
  {
   "cell_type": "code",
   "execution_count": 6,
   "id": "f7c43cac-d9b4-4d32-80c1-ef57e17bd546",
   "metadata": {},
   "outputs": [],
   "source": [
    "t_1.conversations = conversations1\n",
    "t_2.conversations = conversations2"
   ]
  },
  {
   "cell_type": "code",
   "execution_count": 11,
   "id": "52d3007b-1130-441c-99c6-d1959e0474f4",
   "metadata": {},
   "outputs": [],
   "source": [
    "computed_indices = indices[:247]"
   ]
  },
  {
   "cell_type": "code",
   "execution_count": 13,
   "id": "09f59003-71c7-4f6b-b425-bfd0aba1a65c",
   "metadata": {},
   "outputs": [
    {
     "data": {
      "text/plain": [
       "Accuracy(score=442, total=894, accuracy=0.49440715883668906)"
      ]
     },
     "execution_count": 13,
     "metadata": {},
     "output_type": "execute_result"
    }
   ],
   "source": [
    "t_1.answer_accuracy(computed_indices)"
   ]
  },
  {
   "cell_type": "code",
   "execution_count": 15,
   "id": "813df6e0-fad7-4862-9e1d-16a078f0abd4",
   "metadata": {},
   "outputs": [
    {
     "data": {
      "text/plain": [
       "Accuracy(score=493, total=894, accuracy=0.5514541387024608)"
      ]
     },
     "execution_count": 15,
     "metadata": {},
     "output_type": "execute_result"
    }
   ],
   "source": [
    "t_2.answer_accuracy(computed_indices)"
   ]
  },
  {
   "cell_type": "code",
   "execution_count": 17,
   "id": "e74f33fc-1411-412b-a457-fefdd44826ea",
   "metadata": {},
   "outputs": [
    {
     "data": {
      "text/plain": [
       "{'add': Accuracy(score=47, total=90, accuracy=0.5222222222222223),\n",
       " 'subtract': Accuracy(score=80, total=191, accuracy=0.418848167539267),\n",
       " 'multiply': Accuracy(score=13, total=38, accuracy=0.34210526315789475),\n",
       " 'divide': Accuracy(score=101, total=251, accuracy=0.40239043824701193),\n",
       " 'exp': Accuracy(score=0, total=0, accuracy=0),\n",
       " 'greater': Accuracy(score=1, total=2, accuracy=0.5)}"
      ]
     },
     "execution_count": 17,
     "metadata": {},
     "output_type": "execute_result"
    }
   ],
   "source": [
    "t_1.answer_accuracy_by_operation(computed_indices)"
   ]
  },
  {
   "cell_type": "code",
   "execution_count": 19,
   "id": "6681fde4-099b-4e7b-a272-7007d82a9ae9",
   "metadata": {},
   "outputs": [
    {
     "data": {
      "text/plain": [
       "{'add': Accuracy(score=45, total=90, accuracy=0.5),\n",
       " 'subtract': Accuracy(score=92, total=191, accuracy=0.4816753926701571),\n",
       " 'multiply': Accuracy(score=16, total=38, accuracy=0.42105263157894735),\n",
       " 'divide': Accuracy(score=120, total=251, accuracy=0.47808764940239046),\n",
       " 'exp': Accuracy(score=0, total=0, accuracy=0),\n",
       " 'greater': Accuracy(score=2, total=2, accuracy=1.0)}"
      ]
     },
     "execution_count": 19,
     "metadata": {},
     "output_type": "execute_result"
    }
   ],
   "source": [
    "t_2.answer_accuracy_by_operation(computed_indices)"
   ]
  },
  {
   "cell_type": "code",
   "execution_count": 21,
   "id": "ea328c8d-4166-4caa-88ff-ecb0a4253273",
   "metadata": {},
   "outputs": [
    {
     "data": {
      "text/plain": [
       "[Accuracy(score=143, total=247, accuracy=0.5789473684210527),\n",
       " Accuracy(score=126, total=245, accuracy=0.5142857142857142),\n",
       " Accuracy(score=75, total=181, accuracy=0.4143646408839779),\n",
       " Accuracy(score=56, total=130, accuracy=0.4307692307692308),\n",
       " Accuracy(score=29, total=60, accuracy=0.48333333333333334),\n",
       " Accuracy(score=10, total=21, accuracy=0.47619047619047616),\n",
       " Accuracy(score=3, total=8, accuracy=0.375),\n",
       " Accuracy(score=0, total=2, accuracy=0.0)]"
      ]
     },
     "execution_count": 21,
     "metadata": {},
     "output_type": "execute_result"
    }
   ],
   "source": [
    "t_1.answer_accuracy_by_question_number(computed_indices)"
   ]
  },
  {
   "cell_type": "code",
   "execution_count": 23,
   "id": "cfeb8877-f9cf-47c5-a980-f530cf1eabe9",
   "metadata": {},
   "outputs": [
    {
     "data": {
      "text/plain": [
       "[Accuracy(score=156, total=247, accuracy=0.631578947368421),\n",
       " Accuracy(score=146, total=245, accuracy=0.5959183673469388),\n",
       " Accuracy(score=82, total=181, accuracy=0.4530386740331492),\n",
       " Accuracy(score=68, total=130, accuracy=0.5230769230769231),\n",
       " Accuracy(score=27, total=60, accuracy=0.45),\n",
       " Accuracy(score=9, total=21, accuracy=0.42857142857142855),\n",
       " Accuracy(score=4, total=8, accuracy=0.5),\n",
       " Accuracy(score=1, total=2, accuracy=0.5)]"
      ]
     },
     "execution_count": 23,
     "metadata": {},
     "output_type": "execute_result"
    }
   ],
   "source": [
    "t_2.answer_accuracy_by_question_number(computed_indices)"
   ]
  },
  {
   "cell_type": "code",
   "execution_count": 25,
   "id": "3ed0e5fd-b562-4aff-baa6-9cc13a16841a",
   "metadata": {},
   "outputs": [
    {
     "data": {
      "text/plain": [
       "{'retrieval': Accuracy(score=200, total=322, accuracy=0.6211180124223602),\n",
       " 'program': Accuracy(score=242, total=572, accuracy=0.4230769230769231)}"
      ]
     },
     "execution_count": 25,
     "metadata": {},
     "output_type": "execute_result"
    }
   ],
   "source": [
    "t_1.answer_accuracy_by_question_type(computed_indices)"
   ]
  },
  {
   "cell_type": "code",
   "execution_count": 27,
   "id": "db2f910a-152e-4465-9686-11cd95b9c1fa",
   "metadata": {},
   "outputs": [
    {
     "data": {
      "text/plain": [
       "{'retrieval': Accuracy(score=218, total=322, accuracy=0.6770186335403726),\n",
       " 'program': Accuracy(score=275, total=572, accuracy=0.4807692307692308)}"
      ]
     },
     "execution_count": 27,
     "metadata": {},
     "output_type": "execute_result"
    }
   ],
   "source": [
    "t_2.answer_accuracy_by_question_type(computed_indices)"
   ]
  },
  {
   "cell_type": "code",
   "execution_count": 29,
   "id": "f2d5d24f-8ab6-4848-8b54-7312698b4eb9",
   "metadata": {},
   "outputs": [
    {
     "data": {
      "text/plain": [
       "Accuracy(score=331, total=572, accuracy=0.5786713286713286)"
      ]
     },
     "execution_count": 29,
     "metadata": {},
     "output_type": "execute_result"
    }
   ],
   "source": [
    "t_1.program_accuracy(computed_indices)"
   ]
  },
  {
   "cell_type": "code",
   "execution_count": 31,
   "id": "8e16de2f-0a1b-40f8-b850-043dce557b74",
   "metadata": {},
   "outputs": [
    {
     "data": {
      "text/plain": [
       "Accuracy(score=361, total=572, accuracy=0.6311188811188811)"
      ]
     },
     "execution_count": 31,
     "metadata": {},
     "output_type": "execute_result"
    }
   ],
   "source": [
    "t_2.program_accuracy(computed_indices)"
   ]
  },
  {
   "cell_type": "code",
   "execution_count": 33,
   "id": "9b84770b-f84a-4b54-b62c-6f9c8a6e288e",
   "metadata": {},
   "outputs": [
    {
     "data": {
      "text/plain": [
       "{'add': Accuracy(score=63, total=90, accuracy=0.7),\n",
       " 'subtract': Accuracy(score=90, total=191, accuracy=0.4712041884816754),\n",
       " 'multiply': Accuracy(score=12, total=38, accuracy=0.3157894736842105),\n",
       " 'divide': Accuracy(score=166, total=251, accuracy=0.6613545816733067),\n",
       " 'exp': Accuracy(score=0, total=0, accuracy=0),\n",
       " 'greater': Accuracy(score=0, total=2, accuracy=0.0)}"
      ]
     },
     "execution_count": 33,
     "metadata": {},
     "output_type": "execute_result"
    }
   ],
   "source": [
    "t_1.program_accuracy_by_operation(computed_indices)"
   ]
  },
  {
   "cell_type": "code",
   "execution_count": 35,
   "id": "96c917ab-858c-4106-9c8f-a583c47a794f",
   "metadata": {},
   "outputs": [
    {
     "data": {
      "text/plain": [
       "{'add': Accuracy(score=63, total=90, accuracy=0.7),\n",
       " 'subtract': Accuracy(score=101, total=191, accuracy=0.5287958115183246),\n",
       " 'multiply': Accuracy(score=17, total=38, accuracy=0.4473684210526316),\n",
       " 'divide': Accuracy(score=180, total=251, accuracy=0.7171314741035857),\n",
       " 'exp': Accuracy(score=0, total=0, accuracy=0),\n",
       " 'greater': Accuracy(score=0, total=2, accuracy=0.0)}"
      ]
     },
     "execution_count": 35,
     "metadata": {},
     "output_type": "execute_result"
    }
   ],
   "source": [
    "t_2.program_accuracy_by_operation(computed_indices)"
   ]
  },
  {
   "cell_type": "code",
   "execution_count": 37,
   "id": "ed472e92-c490-4e5f-885f-765f5ecbeef6",
   "metadata": {},
   "outputs": [
    {
     "data": {
      "text/plain": [
       "[Accuracy(score=58, total=131, accuracy=0.44274809160305345),\n",
       " Accuracy(score=50, total=94, accuracy=0.5319148936170213),\n",
       " Accuracy(score=110, total=171, accuracy=0.6432748538011696),\n",
       " Accuracy(score=60, total=96, accuracy=0.625),\n",
       " Accuracy(score=38, total=51, accuracy=0.7450980392156863),\n",
       " Accuracy(score=11, total=20, accuracy=0.55),\n",
       " Accuracy(score=3, total=7, accuracy=0.42857142857142855),\n",
       " Accuracy(score=1, total=2, accuracy=0.5)]"
      ]
     },
     "execution_count": 37,
     "metadata": {},
     "output_type": "execute_result"
    }
   ],
   "source": [
    "t_1.program_accuracy_by_question_number(computed_indices)"
   ]
  },
  {
   "cell_type": "code",
   "execution_count": 39,
   "id": "bfb039c1-98d7-42f6-acb8-21ca47920beb",
   "metadata": {},
   "outputs": [
    {
     "data": {
      "text/plain": [
       "[Accuracy(score=67, total=131, accuracy=0.5114503816793893),\n",
       " Accuracy(score=48, total=94, accuracy=0.5106382978723404),\n",
       " Accuracy(score=122, total=171, accuracy=0.7134502923976608),\n",
       " Accuracy(score=68, total=96, accuracy=0.7083333333333334),\n",
       " Accuracy(score=37, total=51, accuracy=0.7254901960784313),\n",
       " Accuracy(score=13, total=20, accuracy=0.65),\n",
       " Accuracy(score=5, total=7, accuracy=0.7142857142857143),\n",
       " Accuracy(score=1, total=2, accuracy=0.5)]"
      ]
     },
     "execution_count": 39,
     "metadata": {},
     "output_type": "execute_result"
    }
   ],
   "source": [
    "t_2.program_accuracy_by_question_number(computed_indices)"
   ]
  }
 ],
 "metadata": {
  "kernelspec": {
   "display_name": "ConvFinQA",
   "language": "python",
   "name": "convfinqa"
  },
  "language_info": {
   "codemirror_mode": {
    "name": "ipython",
    "version": 3
   },
   "file_extension": ".py",
   "mimetype": "text/x-python",
   "name": "python",
   "nbconvert_exporter": "python",
   "pygments_lexer": "ipython3",
   "version": "3.12.4"
  }
 },
 "nbformat": 4,
 "nbformat_minor": 5
}
