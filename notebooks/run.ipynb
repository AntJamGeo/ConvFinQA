{
 "cells": [
  {
   "cell_type": "markdown",
   "id": "fc8a0b70-8e65-4e81-a368-7614a3468447",
   "metadata": {},
   "source": [
    "# Imports"
   ]
  },
  {
   "cell_type": "markdown",
   "id": "2a0556c5-3f00-486a-9cd2-ad0fe3cd24ac",
   "metadata": {},
   "source": [
    "## Preparatory Imports"
   ]
  },
  {
   "cell_type": "code",
   "execution_count": null,
   "id": "40cda6e2-861e-43b9-bf70-dc6ee52915f1",
   "metadata": {},
   "outputs": [],
   "source": [
    "import sys\n",
    "import os\n",
    "\n",
    "src_path = \"../src\"\n",
    "sys.path.insert(0, src_path)\n",
    "\n",
    "hf_token = os.environ[\"HUGGINGFACE_TOKEN\"]"
   ]
  },
  {
   "cell_type": "code",
   "execution_count": null,
   "id": "235edca1-28ab-44e8-9656-5fb05a32254e",
   "metadata": {},
   "outputs": [],
   "source": [
    "from datetime import datetime\n",
    "import time"
   ]
  },
  {
   "cell_type": "markdown",
   "id": "8f9f99b9-8a8a-40aa-b57b-4072db2925d2",
   "metadata": {},
   "source": [
    "## Main Imports"
   ]
  },
  {
   "cell_type": "code",
   "execution_count": null,
   "id": "c98e136d-a3a6-47b3-93f6-b2d1bab95eed",
   "metadata": {},
   "outputs": [],
   "source": [
    "from data import load_data\n",
    "from client import Client\n",
    "from tester import Tester\n",
    "import pickle"
   ]
  },
  {
   "cell_type": "code",
   "execution_count": null,
   "id": "6d2fd805-cc8a-4d29-99f0-d797489f890c",
   "metadata": {},
   "outputs": [],
   "source": [
    "with open(\"../data/runs/run2.pickle\", \"rb\") as conversation_file:\n",
    "    conversations = pickle.load(conversation_file)"
   ]
  },
  {
   "cell_type": "markdown",
   "id": "76683874-96b7-487b-b4ce-119cfb5aab26",
   "metadata": {},
   "source": [
    "# Test the Prototype"
   ]
  },
  {
   "cell_type": "code",
   "execution_count": null,
   "id": "52445b72-a829-412c-afb8-47e329254489",
   "metadata": {},
   "outputs": [],
   "source": [
    "data = [load_data(f\"../data/processed/train{i}.json\") for i in range(1, 4)]\n",
    "entries = data[0] | data[1]\n",
    "c = Client(\n",
    "    \"mistralai/Mistral-Nemo-Instruct-2407\",\n",
    "    token=hf_token,\n",
    ")\n",
    "t = Tester(c, entries)\n",
    "t.conversations = conversations\n",
    "indices = sorted(list(entries.keys()))"
   ]
  },
  {
   "cell_type": "code",
   "execution_count": null,
   "id": "e1d45653-536d-42bf-b3d7-1be4140b860d",
   "metadata": {},
   "outputs": [],
   "source": [
    "N = len(t.conversations)\n",
    "print(N)"
   ]
  },
  {
   "cell_type": "code",
   "execution_count": null,
   "id": "fcae5f24-5e6d-49f8-97e0-28ff292023bc",
   "metadata": {},
   "outputs": [],
   "source": [
    "indices[N]"
   ]
  },
  {
   "cell_type": "code",
   "execution_count": null,
   "id": "a9b517b9-47d6-4622-93f9-c1595e150b04",
   "metadata": {},
   "outputs": [],
   "source": [
    "print(t.conversations[indices[N-1]])\n",
    "print(t.conversations[indices[N]])"
   ]
  },
  {
   "cell_type": "code",
   "execution_count": null,
   "id": "25c68cbb-e4d0-4f4d-ae5f-6b1593549ce4",
   "metadata": {},
   "outputs": [],
   "source": [
    "i = 0"
   ]
  },
  {
   "cell_type": "code",
   "execution_count": null,
   "id": "c7567c07-676b-436e-a41d-9ffd8501393e",
   "metadata": {},
   "outputs": [],
   "source": [
    "bad = []\n",
    "while True:\n",
    "    if N == len(indices):\n",
    "        break\n",
    "    try:\n",
    "        t.run(indices[N:])\n",
    "        N = len(t.conversations)\n",
    "    except Exception as e:\n",
    "        print()\n",
    "        N = len(t.conversations)-1\n",
    "        if len(entries[indices[N]].answers) != len(t.conversations[indices[N]].answers):\n",
    "            print(f\"removing {indices[N]}\")\n",
    "            del t.conversations[indices[N]]\n",
    "        with open(f\"../data/runs/run2_{i}.pickle\", \"wb\") as out:\n",
    "            pickle.dump(t.conversations, out)\n",
    "        i += 1\n",
    "        if i == 100:\n",
    "            break\n",
    "        if \"429 Client Error\" in str(e):\n",
    "            while datetime.now().minute != 1:\n",
    "                time.sleep(60)\n",
    "        else:\n",
    "            bad.append(N)\n",
    "            N += 1"
   ]
  },
  {
   "cell_type": "code",
   "execution_count": null,
   "id": "1f8398e1-a275-4361-b6fe-f38f7df25332",
   "metadata": {},
   "outputs": [],
   "source": [
    "with open(\"../data/runs/run2.pickle\", \"wb\") as out:\n",
    "    pickle.dump(t.conversations, out)"
   ]
  }
 ],
 "metadata": {
  "kernelspec": {
   "display_name": "ConvFinQA",
   "language": "python",
   "name": "convfinqa"
  },
  "language_info": {
   "codemirror_mode": {
    "name": "ipython",
    "version": 3
   },
   "file_extension": ".py",
   "mimetype": "text/x-python",
   "name": "python",
   "nbconvert_exporter": "python",
   "pygments_lexer": "ipython3",
   "version": "3.12.4"
  }
 },
 "nbformat": 4,
 "nbformat_minor": 5
}
