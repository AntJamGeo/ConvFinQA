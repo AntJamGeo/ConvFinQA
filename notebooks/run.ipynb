{
 "cells": [
  {
   "cell_type": "markdown",
   "id": "fc8a0b70-8e65-4e81-a368-7614a3468447",
   "metadata": {},
   "source": [
    "# Imports"
   ]
  },
  {
   "cell_type": "markdown",
   "id": "2a0556c5-3f00-486a-9cd2-ad0fe3cd24ac",
   "metadata": {},
   "source": [
    "## Preparatory Imports"
   ]
  },
  {
   "cell_type": "code",
   "execution_count": 1,
   "id": "40cda6e2-861e-43b9-bf70-dc6ee52915f1",
   "metadata": {},
   "outputs": [],
   "source": [
    "import sys\n",
    "import os\n",
    "\n",
    "src_path = \"../src\"\n",
    "sys.path.insert(0, src_path)\n",
    "\n",
    "hf_token = os.environ[\"HUGGINGFACE_TOKEN\"]"
   ]
  },
  {
   "cell_type": "markdown",
   "id": "8f9f99b9-8a8a-40aa-b57b-4072db2925d2",
   "metadata": {},
   "source": [
    "## Main Imports"
   ]
  },
  {
   "cell_type": "code",
   "execution_count": 3,
   "id": "c98e136d-a3a6-47b3-93f6-b2d1bab95eed",
   "metadata": {},
   "outputs": [
    {
     "name": "stderr",
     "output_type": "stream",
     "text": [
      "C:\\Users\\antjg\\venvs\\ConvFinQA\\Lib\\site-packages\\tqdm\\auto.py:21: TqdmWarning: IProgress not found. Please update jupyter and ipywidgets. See https://ipywidgets.readthedocs.io/en/stable/user_install.html\n",
      "  from .autonotebook import tqdm as notebook_tqdm\n"
     ]
    }
   ],
   "source": [
    "from data import load_data\n",
    "from client import Client\n",
    "from tester import Tester"
   ]
  },
  {
   "cell_type": "markdown",
   "id": "76683874-96b7-487b-b4ce-119cfb5aab26",
   "metadata": {},
   "source": [
    "# Test the Prototype"
   ]
  },
  {
   "cell_type": "code",
   "execution_count": 5,
   "id": "52445b72-a829-412c-afb8-47e329254489",
   "metadata": {},
   "outputs": [],
   "source": [
    "entries = load_data(\"../data/processed/train.json\")"
   ]
  },
  {
   "cell_type": "code",
   "execution_count": 6,
   "id": "38905c7d-5052-44d3-b28a-5cd8205c9160",
   "metadata": {},
   "outputs": [],
   "source": [
    "c = Client(\n",
    "    \"mistralai/Mistral-Nemo-Instruct-2407\",\n",
    "    token=hf_token,\n",
    ")\n",
    "t = Tester(c, entries)"
   ]
  },
  {
   "cell_type": "code",
   "execution_count": 8,
   "id": "8f6c1909-0913-4713-b5fb-074dc56fc761",
   "metadata": {},
   "outputs": [
    {
     "name": "stdout",
     "output_type": "stream",
     "text": [
      "Found an error processing entry 6, question 2. Skipping to the next one...\n",
      "Done                                                          \n"
     ]
    }
   ],
   "source": [
    "t.run(range(10))"
   ]
  },
  {
   "cell_type": "code",
   "execution_count": 13,
   "id": "997aa108-4c56-4083-a21a-93baea38617b",
   "metadata": {},
   "outputs": [
    {
     "data": {
      "text/plain": [
       "Accuracy(score=34, total=43, accuracy=0.7906976744186046)"
      ]
     },
     "execution_count": 13,
     "metadata": {},
     "output_type": "execute_result"
    }
   ],
   "source": [
    "t.answer_accuracy(range(10))"
   ]
  },
  {
   "cell_type": "code",
   "execution_count": 15,
   "id": "9796cadc-51c6-4a3b-b9c8-2eb4439dbff4",
   "metadata": {},
   "outputs": [
    {
     "data": {
      "text/plain": [
       "[Accuracy(score=9, total=10, accuracy=0.9),\n",
       " Accuracy(score=8, total=10, accuracy=0.8),\n",
       " Accuracy(score=7, total=9, accuracy=0.7777777777777778),\n",
       " Accuracy(score=6, total=8, accuracy=0.75),\n",
       " Accuracy(score=3, total=3, accuracy=1.0),\n",
       " Accuracy(score=1, total=2, accuracy=0.5),\n",
       " Accuracy(score=0, total=1, accuracy=0.0)]"
      ]
     },
     "execution_count": 15,
     "metadata": {},
     "output_type": "execute_result"
    }
   ],
   "source": [
    "t.answer_accuracy_by_question_number(range(10))"
   ]
  },
  {
   "cell_type": "code",
   "execution_count": 17,
   "id": "9a326d5c-3f91-418e-a56c-6eab1283e070",
   "metadata": {},
   "outputs": [
    {
     "data": {
      "text/plain": [
       "{'retrieval': Accuracy(score=14, total=15, accuracy=0.9333333333333333),\n",
       " 'program': Accuracy(score=20, total=28, accuracy=0.7142857142857143)}"
      ]
     },
     "execution_count": 17,
     "metadata": {},
     "output_type": "execute_result"
    }
   ],
   "source": [
    "t.answer_accuracy_by_question_type(range(10))"
   ]
  },
  {
   "cell_type": "code",
   "execution_count": 19,
   "id": "eee45ad3-1a56-4bc5-8d1f-bcbdd5fa931c",
   "metadata": {},
   "outputs": [
    {
     "data": {
      "text/plain": [
       "{'add': Accuracy(score=4, total=4, accuracy=1.0),\n",
       " 'subtract': Accuracy(score=9, total=12, accuracy=0.75),\n",
       " 'multiply': Accuracy(score=0, total=0, accuracy=0),\n",
       " 'divide': Accuracy(score=7, total=12, accuracy=0.5833333333333334),\n",
       " 'exp': Accuracy(score=0, total=0, accuracy=0),\n",
       " 'greater': Accuracy(score=0, total=0, accuracy=0)}"
      ]
     },
     "execution_count": 19,
     "metadata": {},
     "output_type": "execute_result"
    }
   ],
   "source": [
    "t.answer_accuracy_by_operation(range(10))"
   ]
  },
  {
   "cell_type": "code",
   "execution_count": 21,
   "id": "195096af-a9be-4595-9f4f-02128e217a3e",
   "metadata": {},
   "outputs": [
    {
     "name": "stdout",
     "output_type": "stream",
     "text": [
      "Found an error processing entry 2798, question 2. Skipping to the next one...\n",
      "Found an error processing entry 2798, question 3. Skipping to the next one...\n",
      "Found an error processing entry 2798, question 4. Skipping to the next one...\n",
      "Found an error processing entry 183, question 2. Skipping to the next one...\n",
      "Found an error processing entry 183, question 3. Skipping to the next one...\n",
      "Found an error processing entry 183, question 4. Skipping to the next one...\n",
      "Done                                                          \n"
     ]
    }
   ],
   "source": [
    "indices = [108, 110, 112, 114, 2736, 2798, 183, 318, 529]\n",
    "t.run(indices)"
   ]
  },
  {
   "cell_type": "code",
   "execution_count": 23,
   "id": "414e3484-2b86-4a17-8b06-3738b32538b4",
   "metadata": {},
   "outputs": [
    {
     "data": {
      "text/plain": [
       "Accuracy(score=18, total=32, accuracy=0.5625)"
      ]
     },
     "execution_count": 23,
     "metadata": {},
     "output_type": "execute_result"
    }
   ],
   "source": [
    "t.answer_accuracy(indices)"
   ]
  },
  {
   "cell_type": "code",
   "execution_count": 25,
   "id": "b6fb5368-a38b-45a6-bcb5-ba1ffdd546dd",
   "metadata": {},
   "outputs": [
    {
     "data": {
      "text/plain": [
       "[Accuracy(score=8, total=9, accuracy=0.8888888888888888),\n",
       " Accuracy(score=5, total=9, accuracy=0.5555555555555556),\n",
       " Accuracy(score=3, total=6, accuracy=0.5),\n",
       " Accuracy(score=1, total=5, accuracy=0.2),\n",
       " Accuracy(score=1, total=2, accuracy=0.5),\n",
       " Accuracy(score=0, total=1, accuracy=0.0)]"
      ]
     },
     "execution_count": 25,
     "metadata": {},
     "output_type": "execute_result"
    }
   ],
   "source": [
    "t.answer_accuracy_by_question_number(indices)"
   ]
  },
  {
   "cell_type": "code",
   "execution_count": 27,
   "id": "7d06b6f3-89f0-4ca0-a467-4219eecf6bb3",
   "metadata": {},
   "outputs": [
    {
     "data": {
      "text/plain": [
       "Accuracy(score=52, total=75, accuracy=0.6933333333333334)"
      ]
     },
     "execution_count": 27,
     "metadata": {},
     "output_type": "execute_result"
    }
   ],
   "source": [
    "t.answer_accuracy(indices+list(range(10)))"
   ]
  },
  {
   "cell_type": "code",
   "execution_count": 29,
   "id": "3b08a92b-e230-4ee7-ab8a-3866e80ea52c",
   "metadata": {},
   "outputs": [
    {
     "data": {
      "text/plain": [
       "[Accuracy(score=17, total=19, accuracy=0.8947368421052632),\n",
       " Accuracy(score=13, total=19, accuracy=0.6842105263157895),\n",
       " Accuracy(score=10, total=15, accuracy=0.6666666666666666),\n",
       " Accuracy(score=7, total=13, accuracy=0.5384615384615384),\n",
       " Accuracy(score=4, total=5, accuracy=0.8),\n",
       " Accuracy(score=1, total=3, accuracy=0.3333333333333333),\n",
       " Accuracy(score=0, total=1, accuracy=0.0)]"
      ]
     },
     "execution_count": 29,
     "metadata": {},
     "output_type": "execute_result"
    }
   ],
   "source": [
    "t.answer_accuracy_by_question_number(indices+list(range(10)))"
   ]
  },
  {
   "cell_type": "code",
   "execution_count": 31,
   "id": "383eef84-c27b-4d63-874f-c7c0cd47cc9c",
   "metadata": {},
   "outputs": [
    {
     "data": {
      "text/plain": [
       "{'add': Accuracy(score=7, total=10, accuracy=0.7),\n",
       " 'subtract': Accuracy(score=10, total=13, accuracy=0.7692307692307693),\n",
       " 'multiply': Accuracy(score=2, total=7, accuracy=0.2857142857142857),\n",
       " 'divide': Accuracy(score=10, total=18, accuracy=0.5555555555555556),\n",
       " 'exp': Accuracy(score=1, total=2, accuracy=0.5),\n",
       " 'greater': Accuracy(score=2, total=3, accuracy=0.6666666666666666)}"
      ]
     },
     "execution_count": 31,
     "metadata": {},
     "output_type": "execute_result"
    }
   ],
   "source": [
    "t.answer_accuracy_by_operation(indices+list(range(10)))"
   ]
  },
  {
   "cell_type": "code",
   "execution_count": null,
   "id": "4330f97e-7840-4662-912a-2c36dc846cd5",
   "metadata": {},
   "outputs": [],
   "source": []
  }
 ],
 "metadata": {
  "kernelspec": {
   "display_name": "ConvFinQA",
   "language": "python",
   "name": "convfinqa"
  },
  "language_info": {
   "codemirror_mode": {
    "name": "ipython",
    "version": 3
   },
   "file_extension": ".py",
   "mimetype": "text/x-python",
   "name": "python",
   "nbconvert_exporter": "python",
   "pygments_lexer": "ipython3",
   "version": "3.12.4"
  }
 },
 "nbformat": 4,
 "nbformat_minor": 5
}
