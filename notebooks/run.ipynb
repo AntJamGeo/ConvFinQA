{
 "cells": [
  {
   "cell_type": "markdown",
   "id": "fc8a0b70-8e65-4e81-a368-7614a3468447",
   "metadata": {},
   "source": [
    "# Imports"
   ]
  },
  {
   "cell_type": "markdown",
   "id": "2a0556c5-3f00-486a-9cd2-ad0fe3cd24ac",
   "metadata": {},
   "source": [
    "## Preparatory Imports"
   ]
  },
  {
   "cell_type": "code",
   "execution_count": 1,
   "id": "40cda6e2-861e-43b9-bf70-dc6ee52915f1",
   "metadata": {},
   "outputs": [],
   "source": [
    "import sys\n",
    "import os\n",
    "\n",
    "src_path = \"../src\"\n",
    "sys.path.insert(0, src_path)\n",
    "\n",
    "hf_token = os.environ[\"HUGGINGFACE_TOKEN\"]"
   ]
  },
  {
   "cell_type": "code",
   "execution_count": 19,
   "id": "235edca1-28ab-44e8-9656-5fb05a32254e",
   "metadata": {},
   "outputs": [],
   "source": [
    "from datetime import datetime\n",
    "import time"
   ]
  },
  {
   "cell_type": "markdown",
   "id": "8f9f99b9-8a8a-40aa-b57b-4072db2925d2",
   "metadata": {},
   "source": [
    "## Main Imports"
   ]
  },
  {
   "cell_type": "code",
   "execution_count": 113,
   "id": "c98e136d-a3a6-47b3-93f6-b2d1bab95eed",
   "metadata": {},
   "outputs": [],
   "source": [
    "from data import load_data\n",
    "from client import Client\n",
    "from tester import Tester\n",
    "import pickle"
   ]
  },
  {
   "cell_type": "code",
   "execution_count": 204,
   "id": "6d2fd805-cc8a-4d29-99f0-d797489f890c",
   "metadata": {},
   "outputs": [],
   "source": [
    "with open(\"../data/runs/run2.pickle\", \"rb\") as conversation_file:\n",
    "    conversations = pickle.load(conversation_file)"
   ]
  },
  {
   "cell_type": "markdown",
   "id": "76683874-96b7-487b-b4ce-119cfb5aab26",
   "metadata": {},
   "source": [
    "# Test the Prototype"
   ]
  },
  {
   "cell_type": "code",
   "execution_count": 207,
   "id": "52445b72-a829-412c-afb8-47e329254489",
   "metadata": {},
   "outputs": [],
   "source": [
    "data = [load_data(f\"../data/processed/train{i}.json\") for i in range(1, 4)]\n",
    "entries = data[0] | data[1]\n",
    "c = Client(\n",
    "    \"mistralai/Mistral-Nemo-Instruct-2407\",\n",
    "    token=hf_token,\n",
    ")\n",
    "t = Tester(c, entries)\n",
    "t.conversations = conversations\n",
    "indices = sorted(list(entries.keys()))"
   ]
  },
  {
   "cell_type": "code",
   "execution_count": 209,
   "id": "e1d45653-536d-42bf-b3d7-1be4140b860d",
   "metadata": {},
   "outputs": [
    {
     "name": "stdout",
     "output_type": "stream",
     "text": [
      "1743\n"
     ]
    }
   ],
   "source": [
    "N = len(t.conversations)\n",
    "print(N)"
   ]
  },
  {
   "cell_type": "code",
   "execution_count": 211,
   "id": "fcae5f24-5e6d-49f8-97e0-28ff292023bc",
   "metadata": {},
   "outputs": [
    {
     "data": {
      "text/plain": [
       "1755"
      ]
     },
     "execution_count": 211,
     "metadata": {},
     "output_type": "execute_result"
    }
   ],
   "source": [
    "indices[N]"
   ]
  },
  {
   "cell_type": "code",
   "execution_count": 213,
   "id": "a9b517b9-47d6-4622-93f9-c1595e150b04",
   "metadata": {},
   "outputs": [
    {
     "name": "stdout",
     "output_type": "stream",
     "text": [
      "<conversation_handler.ConversationHandler object at 0x00000257C8D7D100>\n"
     ]
    },
    {
     "ename": "KeyError",
     "evalue": "1755",
     "output_type": "error",
     "traceback": [
      "\u001b[1;31m---------------------------------------------------------------------------\u001b[0m",
      "\u001b[1;31mKeyError\u001b[0m                                  Traceback (most recent call last)",
      "Cell \u001b[1;32mIn[213], line 2\u001b[0m\n\u001b[0;32m      1\u001b[0m \u001b[38;5;28mprint\u001b[39m(t\u001b[38;5;241m.\u001b[39mconversations[indices[N\u001b[38;5;241m-\u001b[39m\u001b[38;5;241m1\u001b[39m]])\n\u001b[1;32m----> 2\u001b[0m \u001b[38;5;28mprint\u001b[39m(\u001b[43mt\u001b[49m\u001b[38;5;241;43m.\u001b[39;49m\u001b[43mconversations\u001b[49m\u001b[43m[\u001b[49m\u001b[43mindices\u001b[49m\u001b[43m[\u001b[49m\u001b[43mN\u001b[49m\u001b[43m]\u001b[49m\u001b[43m]\u001b[49m)\n",
      "\u001b[1;31mKeyError\u001b[0m: 1755"
     ]
    }
   ],
   "source": [
    "print(t.conversations[indices[N-1]])\n",
    "print(t.conversations[indices[N]])"
   ]
  },
  {
   "cell_type": "code",
   "execution_count": 215,
   "id": "25c68cbb-e4d0-4f4d-ae5f-6b1593549ce4",
   "metadata": {},
   "outputs": [],
   "source": [
    "i = 0"
   ]
  },
  {
   "cell_type": "code",
   "execution_count": null,
   "id": "c7567c07-676b-436e-a41d-9ffd8501393e",
   "metadata": {},
   "outputs": [],
   "source": [
    "bad = []\n",
    "while True:\n",
    "    try:\n",
    "        t.run(indices[N:])\n",
    "    except Exception as e:\n",
    "        print()\n",
    "        N = len(t.conversations)-1\n",
    "        if len(entries[indices[N]].answers) != len(t.conversations[indices[N]].answers):\n",
    "            print(f\"removing {indices[N]}\")\n",
    "            del t.conversations[indices[N]]\n",
    "        with open(f\"../data/runs/run2_{i}.pickle\", \"wb\") as out:\n",
    "            pickle.dump(t.conversations, out)\n",
    "        i += 1\n",
    "        if i == 100:\n",
    "            break\n",
    "        if \"429 Client Error\" in str(e):\n",
    "            while datetime.now().minute != 1:\n",
    "                time.sleep(60)\n",
    "        else:\n",
    "            bad.append(N)\n",
    "            N += 1"
   ]
  },
  {
   "cell_type": "code",
   "execution_count": null,
   "id": "8f6c1909-0913-4713-b5fb-074dc56fc761",
   "metadata": {},
   "outputs": [],
   "source": [
    "t.run(indices[N:])"
   ]
  },
  {
   "cell_type": "code",
   "execution_count": 174,
   "id": "865798ef-ee5d-4518-8c2e-cd2e02b24de6",
   "metadata": {},
   "outputs": [
    {
     "data": {
      "text/plain": [
       "[1751, 1752, 1753, 1754, 1756]"
      ]
     },
     "execution_count": 174,
     "metadata": {},
     "output_type": "execute_result"
    }
   ],
   "source": [
    "sorted(list(t.conversations))[-5:]"
   ]
  },
  {
   "cell_type": "code",
   "execution_count": 188,
   "id": "8baf4815-affd-4858-b3b8-5e3c4b190ded",
   "metadata": {},
   "outputs": [],
   "source": [
    "N = 1755"
   ]
  },
  {
   "cell_type": "code",
   "execution_count": 190,
   "id": "f57b073f-761e-40c1-b215-e9451c390476",
   "metadata": {},
   "outputs": [
    {
     "name": "stdout",
     "output_type": "stream",
     "text": [
      "['add(41.1, 27.3)', 'add(ANS0, 20.9)', 'add(ANS1, 17.0)', '12.0', 'add(ANS2, 12.0)']\n"
     ]
    },
    {
     "ename": "KeyError",
     "evalue": "1755",
     "output_type": "error",
     "traceback": [
      "\u001b[1;31m---------------------------------------------------------------------------\u001b[0m",
      "\u001b[1;31mKeyError\u001b[0m                                  Traceback (most recent call last)",
      "Cell \u001b[1;32mIn[190], line 2\u001b[0m\n\u001b[0;32m      1\u001b[0m \u001b[38;5;28mprint\u001b[39m(entries[N]\u001b[38;5;241m.\u001b[39manswers)\n\u001b[1;32m----> 2\u001b[0m \u001b[38;5;28mprint\u001b[39m(\u001b[43mt\u001b[49m\u001b[38;5;241;43m.\u001b[39;49m\u001b[43mconversations\u001b[49m\u001b[43m[\u001b[49m\u001b[43mN\u001b[49m\u001b[43m]\u001b[49m\u001b[38;5;241m.\u001b[39manswers)\n",
      "\u001b[1;31mKeyError\u001b[0m: 1755"
     ]
    }
   ],
   "source": [
    "print(entries[N].answers)\n",
    "print(t.conversations[N].answers)"
   ]
  },
  {
   "cell_type": "code",
   "execution_count": 192,
   "id": "17a2ccc0-209c-4d56-9192-db8d6e8d5004",
   "metadata": {},
   "outputs": [
    {
     "name": "stdout",
     "output_type": "stream",
     "text": [
      "['subtract(71.34, 54.12)', '54.12', 'divide(ANS0, 54.12)']\n",
      "['subtract(71.34, 54.12)', '54.12', 'divide(ANS0, ANS1)']\n"
     ]
    }
   ],
   "source": [
    "print(entries[N-1].answers)\n",
    "print(t.conversations[N-1].answers)"
   ]
  },
  {
   "cell_type": "code",
   "execution_count": 182,
   "id": "db5f296c-db9d-4dfe-b22e-7507ea43a0a4",
   "metadata": {},
   "outputs": [],
   "source": [
    "del t.conversations[N]"
   ]
  },
  {
   "cell_type": "code",
   "execution_count": 194,
   "id": "78c91b6e-432a-4b8b-a6c8-32a47014e70e",
   "metadata": {},
   "outputs": [
    {
     "name": "stdout",
     "output_type": "stream",
     "text": [
      "407\n",
      "672\n",
      "864\n",
      "901\n",
      "1030\n",
      "1207\n",
      "1274\n",
      "1485\n",
      "1588\n",
      "1643\n",
      "1670\n",
      "1749\n"
     ]
    }
   ],
   "source": [
    "for i in range(N):\n",
    "    if i not in t.conversations.keys():\n",
    "        print(i)"
   ]
  },
  {
   "cell_type": "code",
   "execution_count": 200,
   "id": "267bfbdd-41ff-495e-ba83-a157daac2f8f",
   "metadata": {},
   "outputs": [
    {
     "data": {
      "text/plain": [
       "1743"
      ]
     },
     "execution_count": 200,
     "metadata": {},
     "output_type": "execute_result"
    }
   ],
   "source": [
    "len(t.conversations)"
   ]
  },
  {
   "cell_type": "code",
   "execution_count": 202,
   "id": "1f8398e1-a275-4361-b6fe-f38f7df25332",
   "metadata": {},
   "outputs": [],
   "source": [
    "with open(\"../data/runs/run2.pickle\", \"wb\") as out:\n",
    "    pickle.dump(t.conversations, out)"
   ]
  }
 ],
 "metadata": {
  "kernelspec": {
   "display_name": "ConvFinQA",
   "language": "python",
   "name": "convfinqa"
  },
  "language_info": {
   "codemirror_mode": {
    "name": "ipython",
    "version": 3
   },
   "file_extension": ".py",
   "mimetype": "text/x-python",
   "name": "python",
   "nbconvert_exporter": "python",
   "pygments_lexer": "ipython3",
   "version": "3.12.4"
  }
 },
 "nbformat": 4,
 "nbformat_minor": 5
}
