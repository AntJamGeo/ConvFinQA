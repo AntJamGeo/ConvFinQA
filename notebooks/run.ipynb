{
 "cells": [
  {
   "cell_type": "markdown",
   "id": "fc8a0b70-8e65-4e81-a368-7614a3468447",
   "metadata": {},
   "source": [
    "# Imports"
   ]
  },
  {
   "cell_type": "markdown",
   "id": "2a0556c5-3f00-486a-9cd2-ad0fe3cd24ac",
   "metadata": {},
   "source": [
    "## Preparatory Imports"
   ]
  },
  {
   "cell_type": "code",
   "execution_count": null,
   "id": "40cda6e2-861e-43b9-bf70-dc6ee52915f1",
   "metadata": {},
   "outputs": [],
   "source": [
    "import sys\n",
    "import os\n",
    "\n",
    "src_path = \"../src\"\n",
    "sys.path.insert(0, src_path)\n",
    "\n",
    "hf_token = os.environ[\"HUGGINGFACE_TOKEN\"]"
   ]
  },
  {
   "cell_type": "markdown",
   "id": "8f9f99b9-8a8a-40aa-b57b-4072db2925d2",
   "metadata": {},
   "source": [
    "## Main Imports"
   ]
  },
  {
   "cell_type": "code",
   "execution_count": null,
   "id": "c98e136d-a3a6-47b3-93f6-b2d1bab95eed",
   "metadata": {},
   "outputs": [],
   "source": [
    "from data import load_data\n",
    "from client import Client\n",
    "from tester import Tester\n",
    "import pickle"
   ]
  },
  {
   "cell_type": "code",
   "execution_count": null,
   "id": "6d2fd805-cc8a-4d29-99f0-d797489f890c",
   "metadata": {},
   "outputs": [],
   "source": [
    "with open(\"../data/runs/run2.pickle\", \"rb\") as conversation_file:\n",
    "    conversations = pickle.load(conversation_file)"
   ]
  },
  {
   "cell_type": "markdown",
   "id": "76683874-96b7-487b-b4ce-119cfb5aab26",
   "metadata": {},
   "source": [
    "# Test the Prototype"
   ]
  },
  {
   "cell_type": "code",
   "execution_count": null,
   "id": "52445b72-a829-412c-afb8-47e329254489",
   "metadata": {},
   "outputs": [],
   "source": [
    "data = [load_data(f\"../data/processed/train{i}.json\") for i in range(1, 4)]\n",
    "entries = data[0] | data[1]\n",
    "c = Client(\n",
    "    \"mistralai/Mistral-Nemo-Instruct-2407\",\n",
    "    token=hf_token,\n",
    ")\n",
    "t = Tester(c, entries)\n",
    "t.conversations = conversations\n",
    "indices = sorted(list(entries.keys()))"
   ]
  },
  {
   "cell_type": "code",
   "execution_count": null,
   "id": "eaf5016b-69d8-418f-bd6f-3c60bb247a98",
   "metadata": {},
   "outputs": [],
   "source": [
    "N = 166"
   ]
  },
  {
   "cell_type": "code",
   "execution_count": null,
   "id": "8f6c1909-0913-4713-b5fb-074dc56fc761",
   "metadata": {},
   "outputs": [],
   "source": [
    "t.run(indices[N:])"
   ]
  },
  {
   "cell_type": "code",
   "execution_count": null,
   "id": "db5f296c-db9d-4dfe-b22e-7507ea43a0a4",
   "metadata": {},
   "outputs": [],
   "source": [
    "del t.conversations[N]"
   ]
  },
  {
   "cell_type": "code",
   "execution_count": null,
   "id": "78c91b6e-432a-4b8b-a6c8-32a47014e70e",
   "metadata": {},
   "outputs": [],
   "source": [
    "t.conversations"
   ]
  },
  {
   "cell_type": "code",
   "execution_count": null,
   "id": "1f8398e1-a275-4361-b6fe-f38f7df25332",
   "metadata": {},
   "outputs": [],
   "source": [
    "with open(\"../data/runs/run2.pickle\", \"wb\") as out:\n",
    "    pickle.dump(t.conversations, out)"
   ]
  }
 ],
 "metadata": {
  "kernelspec": {
   "display_name": "ConvFinQA",
   "language": "python",
   "name": "convfinqa"
  },
  "language_info": {
   "codemirror_mode": {
    "name": "ipython",
    "version": 3
   },
   "file_extension": ".py",
   "mimetype": "text/x-python",
   "name": "python",
   "nbconvert_exporter": "python",
   "pygments_lexer": "ipython3",
   "version": "3.12.4"
  }
 },
 "nbformat": 4,
 "nbformat_minor": 5
}
