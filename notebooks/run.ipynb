{
 "cells": [
  {
   "cell_type": "markdown",
   "id": "fc8a0b70-8e65-4e81-a368-7614a3468447",
   "metadata": {},
   "source": [
    "# Imports"
   ]
  },
  {
   "cell_type": "markdown",
   "id": "2a0556c5-3f00-486a-9cd2-ad0fe3cd24ac",
   "metadata": {},
   "source": [
    "## Preparatory Imports"
   ]
  },
  {
   "cell_type": "code",
   "execution_count": 1,
   "id": "40cda6e2-861e-43b9-bf70-dc6ee52915f1",
   "metadata": {},
   "outputs": [],
   "source": [
    "import sys\n",
    "import os\n",
    "\n",
    "src_path = \"../src\"\n",
    "sys.path.insert(0, src_path)\n",
    "\n",
    "hf_token = os.environ[\"HUGGINGFACE_TOKEN\"]"
   ]
  },
  {
   "cell_type": "markdown",
   "id": "8f9f99b9-8a8a-40aa-b57b-4072db2925d2",
   "metadata": {},
   "source": [
    "## Main Imports"
   ]
  },
  {
   "cell_type": "code",
   "execution_count": 3,
   "id": "c98e136d-a3a6-47b3-93f6-b2d1bab95eed",
   "metadata": {},
   "outputs": [
    {
     "name": "stderr",
     "output_type": "stream",
     "text": [
      "C:\\Users\\antjg\\venvs\\ConvFinQA\\Lib\\site-packages\\tqdm\\auto.py:21: TqdmWarning: IProgress not found. Please update jupyter and ipywidgets. See https://ipywidgets.readthedocs.io/en/stable/user_install.html\n",
      "  from .autonotebook import tqdm as notebook_tqdm\n"
     ]
    }
   ],
   "source": [
    "from data import load_data\n",
    "from client import Client\n",
    "from tester import Tester"
   ]
  },
  {
   "cell_type": "markdown",
   "id": "76683874-96b7-487b-b4ce-119cfb5aab26",
   "metadata": {},
   "source": [
    "# Test the Prototype"
   ]
  },
  {
   "cell_type": "code",
   "execution_count": 7,
   "id": "52445b72-a829-412c-afb8-47e329254489",
   "metadata": {},
   "outputs": [],
   "source": [
    "entries = load_data(\"../data/processed/train.json\")"
   ]
  },
  {
   "cell_type": "code",
   "execution_count": 9,
   "id": "38905c7d-5052-44d3-b28a-5cd8205c9160",
   "metadata": {},
   "outputs": [],
   "source": [
    "c = Client(\n",
    "    \"mistralai/Mistral-Nemo-Instruct-2407\",\n",
    "    token=hf_token,\n",
    ")\n",
    "t = Tester(c, entries)"
   ]
  },
  {
   "cell_type": "code",
   "execution_count": 11,
   "id": "8f6c1909-0913-4713-b5fb-074dc56fc761",
   "metadata": {},
   "outputs": [
    {
     "name": "stdout",
     "output_type": "stream",
     "text": [
      "Found an error processing entry 6, question 2. Skipping to the next one...\n",
      "Done                                                          \n"
     ]
    }
   ],
   "source": [
    "t.run(range(10))"
   ]
  },
  {
   "cell_type": "code",
   "execution_count": 12,
   "id": "032d01d3-55d2-49b3-ba1a-d181f9995e6c",
   "metadata": {},
   "outputs": [
    {
     "name": "stdout",
     "output_type": "stream",
     "text": [
      "Entry 0\n",
      "['206588', '181001', 'subtract(206588, 181001)', 'divide(A0, 181001)']\n",
      "['206588', '181001', 'subtract(ANS0, ANS1)', 'divide(ANS2, ANS1)']\n",
      "----------------------------------------\n",
      "[206588.0, 181001.0, 25587.0, 0.14136]\n",
      "[206588.0, 181001.0, 25587.0, 0.1413638598681775]\n",
      "\n",
      "----------------------------------------\n",
      "\n",
      "Entry 1\n",
      "['9362.2', '9244.9', 'subtract(9362.2, 9244.9)', 'divide(A0, 9244.9)']\n",
      "['9362.2', '9244.9', 'subtract(ANS0, ANS1)', 'divide(ANS2, ANS1)']\n",
      "----------------------------------------\n",
      "[9362.2, 9244.9, 117.3, 0.01269]\n",
      "[9362.2, 9244.9, 117.30000000000109, 0.012688076669298868]\n",
      "\n",
      "----------------------------------------\n",
      "\n",
      "Entry 2\n",
      "['5363', '7983', 'subtract(5363, 7983)', 'divide(A0, 7983)']\n",
      "['5363', '7983', 'subtract(ANS1, ANS0)', 'divide(ANS2, ANS1)']\n",
      "----------------------------------------\n",
      "[5363.0, 7983.0, -2620.0, -0.3282]\n",
      "[5363.0, 7983.0, 2620.0, 0.3281974195164725]\n",
      "\n",
      "----------------------------------------\n",
      "\n",
      "Entry 3\n",
      "['subtract(75.95, const_100)', 'divide(A0, const_100)', '102.11', 'subtract(102.11, const_100)', 'divide(A2, const_100)', 'subtract(A1, A3)']\n",
      "['subtract(75.95, 100)', 'divide(ANS0, 100)', '102.11', 'subtract(ANS2, 100)', 'divide(ANS3, 100)', 'subtract(ANS1, ANS4)']\n",
      "----------------------------------------\n",
      "[-24.05, -0.2405, 102.11, 2.11, 0.0211, -0.2616]\n",
      "[-24.049999999999997, -0.24049999999999996, 102.11, 2.1099999999999994, 0.021099999999999994, -0.26159999999999994]\n",
      "\n",
      "----------------------------------------\n",
      "\n",
      "Entry 4\n",
      "['subtract(91.06, const_100)', 'divide(#0, const_100)', 'subtract(75.95, const_100)', 'divide(#2, const_100)', 'subtract(102.11, const_100)', 'divide(#4, const_100)', 'subtract(#5, #5)']\n",
      "['subtract(91.06, 100.00)', 'multiply(ANS0, 100)', 'subtract(75.95, 100.00)', 'multiply(ANS2, 100)', 'subtract(102.11, 100.00)', 'multiply(ANS4, 100)', 'subtract(ANS3, ANS5)']\n",
      "----------------------------------------\n",
      "[-8.94, -0.0894, -24.05, -0.2405, 2.11, 0.0211, -0.2616]\n",
      "[-8.939999999999998, -893.9999999999998, -24.049999999999997, -2404.9999999999995, 2.1099999999999994, 210.99999999999994, -2615.9999999999995]\n",
      "\n",
      "----------------------------------------\n",
      "\n",
      "Entry 5\n",
      "['2530454', '5923147', 'add(2530454, 5923147)', '5923147', 'divide(5923147, A0)']\n",
      "['2530454', '5923147', 'add(ANS0, ANS1)', '5923147', 'divide(ANS3, ANS2)']\n",
      "----------------------------------------\n",
      "[2530454.0, 5923147.0, 8453601.0, 5923147.0, 0.70067]\n",
      "[2530454.0, 5923147.0, 8453601.0, 5923147.0, 0.7006655506925392]\n",
      "\n",
      "----------------------------------------\n",
      "\n",
      "Entry 6\n",
      "['subtract(3.7, 3.2)', '3.2', 'divide(A0, 3.2)']\n",
      "['subtract(3200, 3700)', 'n/a', 'divide(ANS0, 3200)']\n",
      "----------------------------------------\n",
      "[0.5, 3.2, 0.15625]\n",
      "[-500.0, nan, -0.15625]\n",
      "\n",
      "----------------------------------------\n",
      "\n",
      "Entry 7\n",
      "['subtract(118, 102)', 'divide(#0, 102)']\n",
      "['subtract(118, 102)', 'divide(ANS0, 102) * 100%']\n",
      "----------------------------------------\n",
      "[16.0, 0.15686]\n",
      "[16.0, 0.1568627450980392]\n",
      "\n",
      "----------------------------------------\n",
      "\n",
      "Entry 8\n",
      "['27729', '45161', 'add(27729, 45161)', 'divide(A0, 317105)']\n",
      "['27729', '45161', 'add(ANS0, ANS1)', 'divide(ANS2, 317105)']\n",
      "----------------------------------------\n",
      "[27729.0, 45161.0, 72890.0, 0.22986]\n",
      "[27729.0, 45161.0, 72890.0, 0.22986077166869018]\n",
      "\n",
      "----------------------------------------\n",
      "\n",
      "Entry 9\n",
      "['4.5', '4.1', 'add(4.5, 4.1)', 'add(A0, 3.4)']\n",
      "['4.5', '4.1', 'add(ANS0, ANS1)', 'add(ANS2, 3.4)']\n",
      "----------------------------------------\n",
      "[4.5, 4.1, 8.6, 12.0]\n",
      "[4.5, 4.1, 8.6, 12.0]\n",
      "\n",
      "----------------------------------------\n",
      "\n"
     ]
    }
   ],
   "source": [
    "t.compare(range(10))"
   ]
  },
  {
   "cell_type": "code",
   "execution_count": 15,
   "id": "157c4aec-561f-4eb3-a1d3-966f5f5073c6",
   "metadata": {},
   "outputs": [
    {
     "name": "stdout",
     "output_type": "stream",
     "text": [
      "Entry 6\n",
      "----------------------------------------\n",
      "Question 2: Answer Please provide me with the relevant context for this question.\n",
      "Error: Answer from the LLM should include an \"=\" sign\n",
      "\n",
      "----------------------------------------\n",
      "\n"
     ]
    }
   ],
   "source": [
    "t.view_err_log(range(10))"
   ]
  },
  {
   "cell_type": "code",
   "execution_count": 17,
   "id": "195096af-a9be-4595-9f4f-02128e217a3e",
   "metadata": {},
   "outputs": [
    {
     "name": "stdout",
     "output_type": "stream",
     "text": [
      "Found an error processing entry 2798, question 2. Skipping to the next one...\n",
      "Found an error processing entry 2798, question 3. Skipping to the next one...\n",
      "Found an error processing entry 2798, question 4. Skipping to the next one...\n",
      "Found an error processing entry 183, question 2. Skipping to the next one...\n",
      "Found an error processing entry 183, question 3. Skipping to the next one...\n",
      "Found an error processing entry 183, question 4. Skipping to the next one...\n",
      "Done                                                          \n"
     ]
    }
   ],
   "source": [
    "indices = [108, 110, 112, 114, 2736, 2798, 183, 318, 529]\n",
    "t.run(indices)"
   ]
  },
  {
   "cell_type": "code",
   "execution_count": 19,
   "id": "5e3ff68b-2d59-4b4f-a237-e83e0abb977e",
   "metadata": {},
   "outputs": [
    {
     "name": "stdout",
     "output_type": "stream",
     "text": [
      "Entry 108\n",
      "['multiply(161903, 27.57)', 'divide(A0, const_1000000)']\n",
      "['multiply(0, 0)', 'ANS0']\n",
      "----------------------------------------\n",
      "[4463665.71, 4.46367]\n",
      "[0.0, 0.0]\n",
      "\n",
      "----------------------------------------\n",
      "\n",
      "Entry 110\n",
      "['divide(7200, 4100)', 'multiply(15900, 19%)']\n",
      "['divide(7200, 4100)', 'multiply(0.19, 15900)']\n",
      "----------------------------------------\n",
      "[1.7561, 3021.0]\n",
      "[1.7560975609756098, 3021.0]\n",
      "\n",
      "----------------------------------------\n",
      "\n",
      "Entry 112\n",
      "['1610.3', '1612.9', 'add(1610.3, 1612.9)', 'add(1762.3, 1722.2)', 'divide(A0, A1)', 'multiply(A2, const_100)']\n",
      "['1610.3', '1612.9', 'add(ANS0, ANS1)', 'add(ANS2, 6)', 'divide(ANS2, ANS3)', 'multiply(ANS4, 100)\\nANS5']\n",
      "----------------------------------------\n",
      "[1610.3, 1612.9, 3223.2, 3484.5, 0.92501, 92.50108]\n",
      "[1610.3, 1612.9, 3223.2, 3229.2, 0.9981419546636938, 99.81419546636938]\n",
      "\n",
      "----------------------------------------\n",
      "\n",
      "Entry 114\n",
      "['add(1623.5, 1129.8)', 'add(1732.8, 1662.5)', 'divide(A0, A1)', 'multiply(A2, const_100)']\n",
      "['add(1129.8, 1623.5)', 'add(ANS0, 353.6)', 'divide(ANS0, ANS1)', 'multiply(ANS2, 100%)']\n",
      "----------------------------------------\n",
      "[2753.3, 3395.3, 0.81092, 81.09151]\n",
      "[2753.3, 3106.9, 0.886188805561814, 0.886188805561814]\n",
      "\n",
      "----------------------------------------\n",
      "\n",
      "Entry 2736\n",
      "['2.75%', 'add(const_1, 2.75%)', 'exp(A0, const_10)', '400.0', 'multiply(400.0, A1)']\n",
      "['2.75%', 'add(1, ANS0)', 'exp(ANS1, 10)', '400', 'multiply(ANS3, ANS2)']\n",
      "----------------------------------------\n",
      "[0.0275, 1.0275, 1.31165, 400.0, 524.66041]\n",
      "[0.0275, 1.0275, 1.3116510325867732, 400.0, 524.6604130347092]\n",
      "\n",
      "----------------------------------------\n",
      "\n",
      "Entry 2798\n",
      "['3.75%', 'add(const_1, 3.75%)', 'exp(A0, const_6)', 'multiply(18.47, A1)']\n",
      "['3.75%', 'n/a', 'n/a', 'n/a']\n",
      "----------------------------------------\n",
      "[0.0375, 1.0375, 1.24718, 23.03539]\n",
      "[0.0375, nan, nan, nan]\n",
      "\n",
      "----------------------------------------\n",
      "\n",
      "Entry 183\n",
      "['400', '6.65%', 'multiply(400, 6.65%)', 'greater(A0, 5)']\n",
      "['400', 'n/a', 'n/a', 'n/a']\n",
      "----------------------------------------\n",
      "[400.0, 0.0665, 26.6, 'yes']\n",
      "[400.0, nan, nan, nan]\n",
      "\n",
      "----------------------------------------\n",
      "\n",
      "Entry 318\n",
      "['divide(34, 214)', 'greater(34, 52)']\n",
      "['divide(34, 214)*100%', 'greater(34, 52)']\n",
      "----------------------------------------\n",
      "[0.15888, 'no']\n",
      "[0.1588785046728972, 'no']\n",
      "\n",
      "----------------------------------------\n",
      "\n",
      "Entry 529\n",
      "['subtract(495, 100)', 'divide(#0, 100)', 'greater(241, 85)']\n",
      "['subtract(495, 100)', 'divide(ANS0, 100)', 'greater(241, 85)']\n",
      "----------------------------------------\n",
      "[395.0, 3.95, 'yes']\n",
      "[395.0, 3.95, 'yes']\n",
      "\n",
      "----------------------------------------\n",
      "\n"
     ]
    }
   ],
   "source": [
    "t.compare(indices)"
   ]
  },
  {
   "cell_type": "code",
   "execution_count": 21,
   "id": "0a24fbb5-d968-4ba0-a54c-4b895fde7f1d",
   "metadata": {},
   "outputs": [
    {
     "name": "stdout",
     "output_type": "stream",
     "text": [
      "Entry 2798\n",
      "----------------------------------------\n",
      "Question 2: Answer ANS1 = subtract(1, multiply(ANS0, 100))\n",
      "Error: Non-float answer should be an operation of the form \"operation(arg1, arg2)\", but got the following: subtract(1, multiply(ANS0, 100))\n",
      "----------------------------------------\n",
      "Question 3: Answer ANS2 = subtract(1, ANS1)\n",
      "Error: Operation requires use of nan value\n",
      "----------------------------------------\n",
      "Question 4: Answer ANS3 = divide(1, subtract(1, ANS1))\n",
      "Error: Non-float answer should be an operation of the form \"operation(arg1, arg2)\", but got the following: divide(1, subtract(1, ANS1))\n",
      "\n",
      "----------------------------------------\n",
      "\n",
      "Entry 183\n",
      "----------------------------------------\n",
      "Question 2: Answer ANS1 = undoexp(add(ANS0, 0), ANS1)\n",
      "Error: Non-float answer should be an operation of the form \"operation(arg1, arg2)\", but got the following: undoexp(add(ANS0, 0), ANS1)\n",
      "----------------------------------------\n",
      "Question 3: Answer ANS2 = divide(ANS1, ANS0)\n",
      "Error: Operation requires use of nan value\n",
      "----------------------------------------\n",
      "Question 4: Answer ANS3 = greater(ANS2, 5)\n",
      "Error: Operation requires use of nan value\n",
      "\n",
      "----------------------------------------\n",
      "\n"
     ]
    }
   ],
   "source": [
    "t.view_err_log(indices)"
   ]
  }
 ],
 "metadata": {
  "kernelspec": {
   "display_name": "ConvFinQA",
   "language": "python",
   "name": "convfinqa"
  },
  "language_info": {
   "codemirror_mode": {
    "name": "ipython",
    "version": 3
   },
   "file_extension": ".py",
   "mimetype": "text/x-python",
   "name": "python",
   "nbconvert_exporter": "python",
   "pygments_lexer": "ipython3",
   "version": "3.12.4"
  }
 },
 "nbformat": 4,
 "nbformat_minor": 5
}
