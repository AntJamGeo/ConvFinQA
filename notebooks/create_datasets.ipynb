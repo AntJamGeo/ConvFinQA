{
 "cells": [
  {
   "cell_type": "code",
   "execution_count": 122,
   "id": "72f4bbd8-f168-4b8a-940a-2272039e143f",
   "metadata": {},
   "outputs": [],
   "source": [
    "import json\n",
    "import collections"
   ]
  },
  {
   "cell_type": "code",
   "execution_count": 43,
   "id": "5e189fd4-61fa-4e1e-9220-e91ceedd6ea2",
   "metadata": {},
   "outputs": [],
   "source": [
    "with open(\"../data/raw/train.json\") as json_file:\n",
    "    data = json.load(json_file) "
   ]
  },
  {
   "cell_type": "code",
   "execution_count": 498,
   "id": "c5ade4d0-fe5d-42be-a2d2-bfdaeeae8a3e",
   "metadata": {},
   "outputs": [],
   "source": [
    "raw_all, raw_t1, raw_t2 = [], {}, {}\n",
    "for i, e in enumerate(data):\n",
    "    type_ = 1 if \"qa\" in e else 2 if \"qa_0\" in e and \"qa_1\" in e else 3\n",
    "    e = e[\"annotation\"]\n",
    "    e[\"type\"] = type\n",
    "    raw_all.append(e)\n",
    "    if type_ == 1:\n",
    "        raw_t1[i] = e\n",
    "    elif type_ == 2:\n",
    "        raw_t2[i] = e\n",
    "    else:\n",
    "        print(\"unexpected\")"
   ]
  },
  {
   "cell_type": "markdown",
   "id": "3d5d5fe0-cd52-4581-b4c9-fd4acd04f5bf",
   "metadata": {},
   "source": [
    "# Preparation"
   ]
  },
  {
   "cell_type": "markdown",
   "id": "593666d8-959e-405f-bf6f-8e63901028b2",
   "metadata": {},
   "source": [
    "Finding out all the different answer formats until bad returns as an empty list."
   ]
  },
  {
   "cell_type": "code",
   "execution_count": 80,
   "id": "a6338f4e-b9b4-4537-8cad-87ec8cdc61d7",
   "metadata": {},
   "outputs": [],
   "source": [
    "def answer_format(entries):\n",
    "    bad = []\n",
    "    for e in entries:\n",
    "        for answer in e[\"answer_list\"]:\n",
    "            if answer.startswith(\"A\"):\n",
    "                try:\n",
    "                    int(answer[1:])\n",
    "                except:\n",
    "                    bad.append(e)\n",
    "            else:\n",
    "                try:\n",
    "                    if answer.endswith(\"%\"):\n",
    "                        float(answer[:-1])\n",
    "                    else:\n",
    "                        float(answer)\n",
    "                except:\n",
    "                    bad.append(e)\n",
    "    return bad"
   ]
  },
  {
   "cell_type": "code",
   "execution_count": 504,
   "id": "383fcaf7-6cb3-4d06-ba5f-7fa062668796",
   "metadata": {},
   "outputs": [
    {
     "data": {
      "text/plain": [
       "[]"
      ]
     },
     "execution_count": 504,
     "metadata": {},
     "output_type": "execute_result"
    }
   ],
   "source": [
    "answer_format1(raw_t1.values())"
   ]
  },
  {
   "cell_type": "markdown",
   "id": "00eb7e98-3a9e-4a94-b7ba-905b9e017ef6",
   "metadata": {},
   "source": [
    "Separating a step into the operation and its arguments."
   ]
  },
  {
   "cell_type": "code",
   "execution_count": 116,
   "id": "be4cff35-a4cf-4f17-86ba-d03071739d32",
   "metadata": {},
   "outputs": [],
   "source": [
    "def process_step(step):\n",
    "    step = step.replace(\" \", \"\")\n",
    "    op, args = step.split(\"(\")\n",
    "    arg1, arg2 = args.split(\")\")[0].split(\",\")\n",
    "    return op, arg1, arg2"
   ]
  },
  {
   "cell_type": "markdown",
   "id": "0cd5284d-62ef-4176-b807-43d477d5e2f8",
   "metadata": {},
   "source": [
    "Seeing all the different types of arguments."
   ]
  },
  {
   "cell_type": "code",
   "execution_count": 406,
   "id": "222375db-a821-4c2c-b8f0-b00ee73c76c6",
   "metadata": {},
   "outputs": [],
   "source": [
    "def see_arg_types(entries):\n",
    "    arg_types = collections.defaultdict(int)\n",
    "    for e in entries:\n",
    "        for step, answer, q in zip(e[\"step_list\"], e[\"answer_list\"], e[\"dialogue_break_ori\"]):\n",
    "            if q == \"n/a\":\n",
    "                continue\n",
    "            if answer.startswith(\"A\") or answer.startswith(\"#\"):\n",
    "                op, arg1, arg2 = process_step(step)\n",
    "                arg_types[get_arg_type(arg1)] += 1\n",
    "                arg_types[get_arg_type(arg2)] += 1\n",
    "    return arg_types\n",
    "\n",
    "def get_arg_type(arg):\n",
    "    if arg.startswith(\"A\"):\n",
    "        return \"A\"\n",
    "    elif arg.startswith(\"#\"):\n",
    "        return \"#\"\n",
    "    elif arg.endswith(\"%\"):\n",
    "        return \"%\"\n",
    "    elif arg.startswith(\"const_m\"):\n",
    "        return \"N\"\n",
    "    elif arg.startswith(\"const_\"):\n",
    "        return \"P\"\n",
    "    else:\n",
    "        try:\n",
    "            float(arg)\n",
    "            return \"F\"\n",
    "        except:\n",
    "            return arg"
   ]
  },
  {
   "cell_type": "code",
   "execution_count": 506,
   "id": "9bf3de82-1478-478c-9053-3d21d14bbbca",
   "metadata": {},
   "outputs": [
    {
     "data": {
      "text/plain": [
       "defaultdict(int, {'F': 5870, 'A': 2516, 'P': 790, '%': 56, 'N': 6})"
      ]
     },
     "execution_count": 506,
     "metadata": {},
     "output_type": "execute_result"
    }
   ],
   "source": [
    "see_arg_types(raw_t1.values())"
   ]
  },
  {
   "cell_type": "markdown",
   "id": "0c02c88c-2635-4833-bbfd-7489a90e03ec",
   "metadata": {},
   "source": [
    "Now that I know what all the types of arguments are, I can process them."
   ]
  },
  {
   "cell_type": "code",
   "execution_count": 437,
   "id": "70be7f61-3bd5-4219-ab00-2323f8f5270d",
   "metadata": {},
   "outputs": [],
   "source": [
    "def process_arg(arg, ans_map):\n",
    "    if arg.startswith(\"A\") or arg.startswith(\"#\"):\n",
    "        return ans_map[arg]\n",
    "    elif arg.endswith(\"%\"):\n",
    "        return float(arg[:-1]) / 100\n",
    "    elif arg.startswith(\"const_m\"):\n",
    "        return -int(arg[7:])\n",
    "    elif arg.startswith(\"const_\"):\n",
    "        return int(arg[6:])\n",
    "    else:\n",
    "        return float(arg)"
   ]
  },
  {
   "cell_type": "markdown",
   "id": "dfcfd339-bf05-416c-afc3-686b7381000a",
   "metadata": {},
   "source": [
    "Create a list of answers in a clean, standard format for easy comparison."
   ]
  },
  {
   "cell_type": "code",
   "execution_count": null,
   "id": "afb2e248-c17b-4f69-a7c1-b6672da035e7",
   "metadata": {},
   "outputs": [],
   "source": [
    "def build(op, arg1, arg2, step_list):\n",
    "    if not arg1.startswith(\"#\") and not arg2.startswith(\"#\"):\n",
    "        return f\"{op}({arg1}, {arg2})\"\n",
    "    answer = []\n",
    "    if arg1.startswith(\"#\"):\n",
    "        i = int(arg1[1:])\n",
    "        prev_op, prev_arg1, prev_arg2 = process_step(step_list[i])\n",
    "        prev_arg1, prev_arg2 = process_arg(prev_arg1, ans_map), process_arg(prev_arg2, ans_map)\n",
    "        prev_answer = build(prev_op, prev_arg1, prev_arg2, step_list)\n",
    "        answer.append(prev_answer)"
   ]
  },
  {
   "cell_type": "code",
   "execution_count": 638,
   "id": "3c30d310-d578-465b-ae85-0271a6ab6ef6",
   "metadata": {},
   "outputs": [],
   "source": [
    "def create_answers(e):\n",
    "    a = []\n",
    "    ans_map = {}\n",
    "    j = 0\n",
    "    for i, (step, answer, q) in enumerate(zip(e[\"step_list\"], e[\"answer_list\"], e[\"dialogue_break_ori\"])):\n",
    "        if q == \"n/a\":\n",
    "            if answer.startswith(\"A\") or answer.startswith(\"#\"):\n",
    "                try:\n",
    "                    ans_map[answer] = f\"ANS{e[\"step_list\"][:i].index(step)}\"\n",
    "                except ValueError:\n",
    "                    ans_map[answer] = \"multi\"\n",
    "            continue\n",
    "        if answer.startswith(\"A\") or answer.startswith(\"#\"):\n",
    "            ans_map[answer] = f\"ANS{j}\"\n",
    "            op, arg1, arg2 = process_step(step)\n",
    "            arg1, arg2 = process_arg(arg1, ans_map), process_arg(arg2, ans_map)\n",
    "            if arg1 == \"multi\" or arg2 == \"multi\":\n",
    "                return [], True\n",
    "            a.append(f\"{op}({arg1}, {arg2})\")\n",
    "        else:\n",
    "            a.append(answer)\n",
    "        j += 1\n",
    "    return a, False"
   ]
  },
  {
   "cell_type": "markdown",
   "id": "419994a2-1683-4e2f-be94-f06debe9d905",
   "metadata": {},
   "source": [
    "# Producing the Final Datasets"
   ]
  },
  {
   "cell_type": "code",
   "execution_count": 694,
   "id": "3a79d9fb-5189-4391-9147-6e16bfa5f5c1",
   "metadata": {},
   "outputs": [],
   "source": [
    "def create_dataset(entries, type_):\n",
    "    t = {}\n",
    "    multis = []\n",
    "    for i, raw_e in entries.items():\n",
    "        answers, multi = create_answers1(raw_e)\n",
    "        if multi:\n",
    "            multis.append(i)\n",
    "        else:\n",
    "            e = {\"type\": type_}\n",
    "            e[\"context\"] = \" \".join([raw_e[\"amt_pre_text\"], raw_e[\"amt_table\"], raw_e[\"amt_post_text\"]])\n",
    "            e[\"answers\"] = answers\n",
    "            e[\"dialogue_break\"] = raw_e[\"dialogue_break\"]\n",
    "            e[\"exe_ans_list\"] = raw_e[\"exe_ans_list\"]\n",
    "            t[i] = e\n",
    "    return t, multis"
   ]
  },
  {
   "cell_type": "code",
   "execution_count": 712,
   "id": "3e2e4e83-1d1a-4da6-a2a5-0a348e869957",
   "metadata": {},
   "outputs": [],
   "source": [
    "t1, multis1 = create_dataset(raw_t1, 1)\n",
    "t2, multis2 = create_dataset(raw_t2, 2)"
   ]
  },
  {
   "cell_type": "code",
   "execution_count": 758,
   "id": "dc0d7e43-5723-415c-b9fc-c1d2b7c19c6f",
   "metadata": {},
   "outputs": [],
   "source": [
    "t3 = {}\n",
    "for i in multis:\n",
    "    raw_e = raw_all[i]\n",
    "    e = {\"type\": 3}\n",
    "    #e[\"context\"] = \" \".join([raw_e[\"amt_pre_text\"], raw_e[\"amt_table\"], raw_e[\"amt_post_text\"]])\n",
    "    e[\"answers\"] = []\n",
    "    e[\"dialogue_break\"] = raw_e[\"dialogue_break\"]\n",
    "    e[\"exe_ans_list\"] = raw_e[\"exe_ans_list\"]\n",
    "    e[\"dialogue_break_ori\"] = raw_e[\"dialogue_break_ori\"]\n",
    "    e[\"step_list\"] = raw_e[\"step_list\"]\n",
    "    e[\"answer_list\"] = raw_e[\"answer_list\"]\n",
    "    t3[i] = e"
   ]
  },
  {
   "cell_type": "code",
   "execution_count": 754,
   "id": "e9078e00-deb9-41d4-acf1-a67ffb1bcc74",
   "metadata": {},
   "outputs": [],
   "source": [
    "t = [t1, t2, t3]"
   ]
  },
  {
   "cell_type": "code",
   "execution_count": 756,
   "id": "b7815381-fc91-4e9c-b280-072a0961ec99",
   "metadata": {},
   "outputs": [],
   "source": [
    "for i in range(3):\n",
    "    with open(f\"../data/processed/train{i+1}.json\", \"w\") as out:\n",
    "        out.write(json.dumps(t[i], indent=4))"
   ]
  },
  {
   "cell_type": "code",
   "execution_count": 786,
   "id": "ce6dbc4f-d0a6-4b26-bee3-b42ee1e8cfa3",
   "metadata": {},
   "outputs": [
    {
     "data": {
      "text/plain": [
       "{'type': 3,\n",
       " 'answers': [],\n",
       " 'dialogue_break': ['as of december 31, 2017, how much did the balance of class a common stock represent in relation to the one of class b common stock?',\n",
       "  'and what is this class b balance as a percentage of the total number of authorized shares of that stock, in that same date?'],\n",
       " 'exe_ans_list': [0.5972, 0.5656],\n",
       " 'dialogue_break_ori': ['n/a',\n",
       "  'n/a',\n",
       "  'as of december 31, 2017, how much did the balance of class a common stock represent in relation to the one of class b common stock?',\n",
       "  'n/a',\n",
       "  'n/a',\n",
       "  'and what is this class b balance as a percentage of the total number of authorized shares of that stock, in that same date?'],\n",
       " 'step_list': ['Ask for number 422208',\n",
       "  'Ask for number 706985',\n",
       "  'divide(422208, 706985)',\n",
       "  'multiply(1.25, const_1000)',\n",
       "  'Ask for number 707',\n",
       "  'divide(707, #1)'],\n",
       " 'answer_list': ['422208', '706985', '#0', '#1', '707', '#2']}"
      ]
     },
     "execution_count": 786,
     "metadata": {},
     "output_type": "execute_result"
    }
   ],
   "source": [
    "t3[3003]"
   ]
  }
 ],
 "metadata": {
  "kernelspec": {
   "display_name": "ConvFinQA",
   "language": "python",
   "name": "convfinqa"
  },
  "language_info": {
   "codemirror_mode": {
    "name": "ipython",
    "version": 3
   },
   "file_extension": ".py",
   "mimetype": "text/x-python",
   "name": "python",
   "nbconvert_exporter": "python",
   "pygments_lexer": "ipython3",
   "version": "3.12.4"
  }
 },
 "nbformat": 4,
 "nbformat_minor": 5
}
