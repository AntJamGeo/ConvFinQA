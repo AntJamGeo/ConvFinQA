{
 "cells": [
  {
   "cell_type": "code",
   "execution_count": 1,
   "id": "64ffc1a3-6700-4414-bbdc-ee2994c3dd9b",
   "metadata": {},
   "outputs": [],
   "source": [
    "import json"
   ]
  },
  {
   "cell_type": "code",
   "execution_count": 3,
   "id": "171bab4d-03b4-4232-86cc-3edd8529a522",
   "metadata": {},
   "outputs": [],
   "source": [
    "def create_datasets(input_path, output_path):\n",
    "    with open(input_path) as json_file:\n",
    "        data = json.load(json_file)\n",
    "\n",
    "    entries = []\n",
    "    for i, entry in enumerate(data):\n",
    "        if \"qa\" in entry:\n",
    "            entries.append(create_type1(entry))\n",
    "        elif \"qa_0\" in entry and \"qa_1\" in entry:\n",
    "            entries.append(create_type2(entry))\n",
    "        else:\n",
    "            print(f\"Found unusual entry at {i}\")\n",
    "        entries[-1][\"index\"] = i\n",
    "    with open(output_path, \"w\") as out:\n",
    "        out.write(json.dumps(entries))\n",
    "\n",
    "\n",
    "def create_type1(entry):\n",
    "    entry = entry[\"annotation\"]\n",
    "    step_list = entry[\"step_list\"]\n",
    "    context = \" \".join([entry[\"amt_pre_text\"], entry[\"amt_table\"], entry[\"amt_post_text\"]])\n",
    "    is_op, answers = [], []\n",
    "    for j, step in enumerate(step_list):\n",
    "        if \"Ask for number\" in step:\n",
    "            is_op.append(False)\n",
    "            answers.append(step.split(\" \")[-1])\n",
    "        elif \"(\" in step:\n",
    "            is_op.append(True)\n",
    "            answers.append(step)\n",
    "        else:\n",
    "            print(f\"Found unusual step {j} in entry {i}\")\n",
    "            break\n",
    "    return {\n",
    "        \"context\": context,\n",
    "        \"questions\": entry[\"dialogue_break\"],\n",
    "        \"is_op\": is_op,\n",
    "        \"answers\": answers,\n",
    "        \"exe_answers\": entry[\"exe_ans_list\"],\n",
    "        \"type\": 1,\n",
    "    }\n",
    "        \n",
    "def create_type2(entry):\n",
    "    entry = entry[\"annotation\"]\n",
    "    step_list = entry[\"step_list\"]\n",
    "    context = \" \".join([entry[\"amt_pre_text\"], entry[\"amt_table\"], entry[\"amt_post_text\"]])\n",
    "    dialogue_ori = entry[\"dialogue_break_ori\"]\n",
    "    questions, is_op, answers = [], [], []\n",
    "    for j, (dialogue, step) in enumerate(zip(dialogue_ori, step_list)):\n",
    "        if dialogue == \"n/a\":\n",
    "            continue\n",
    "        if \"Ask for number\" in step:\n",
    "            questions.append(dialogue)\n",
    "            is_op.append(False)\n",
    "            answers.append(step.split(\" \")[-1])\n",
    "        elif \"(\" in step:\n",
    "            questions.append(dialogue)\n",
    "            is_op.append(True)\n",
    "            answers.append(step)\n",
    "        else:\n",
    "            print(f\"Found unusual step {j} in entry {i}\")\n",
    "            break\n",
    "    return {\n",
    "        \"context\": context,\n",
    "        \"questions\": entry[\"dialogue_break\"],\n",
    "        \"is_op\": is_op,\n",
    "        \"answers\": answers,\n",
    "        \"exe_answers\": entry[\"exe_ans_list\"],\n",
    "        \"type\": 2,\n",
    "    }"
   ]
  },
  {
   "cell_type": "code",
   "execution_count": 5,
   "id": "9d44106b-16b1-4855-a780-a3adbe3b2540",
   "metadata": {},
   "outputs": [],
   "source": [
    "input_path = \"../data/raw/train.json\"\n",
    "output_path = \"../data/processed/train.json\"\n",
    "\n",
    "create_datasets(input_path, output_path)"
   ]
  },
  {
   "cell_type": "code",
   "execution_count": null,
   "id": "38fb87b7-7e23-4c81-aec1-825e94dbf7e7",
   "metadata": {},
   "outputs": [],
   "source": []
  }
 ],
 "metadata": {
  "kernelspec": {
   "display_name": "ConvFinQA",
   "language": "python",
   "name": "convfinqa"
  },
  "language_info": {
   "codemirror_mode": {
    "name": "ipython",
    "version": 3
   },
   "file_extension": ".py",
   "mimetype": "text/x-python",
   "name": "python",
   "nbconvert_exporter": "python",
   "pygments_lexer": "ipython3",
   "version": "3.12.4"
  }
 },
 "nbformat": 4,
 "nbformat_minor": 5
}
